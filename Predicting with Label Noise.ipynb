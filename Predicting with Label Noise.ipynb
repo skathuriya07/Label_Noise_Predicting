{
  "cells": [
    {
      "cell_type": "markdown",
      "metadata": {
        "id": "fI6JirSFU5Va"
      },
      "source": [
        "# References\n"
      ]
    },
    {
      "cell_type": "markdown",
      "metadata": {
        "id": "JA66EZirQA10"
      },
      "source": [
        "**Datasets used in this assignment**\n",
        "\n",
        "The assignment is implemented with the following dataset: CIFAR, FashionMNIST0.5 and FashionMNIST0.6\n",
        "\n",
        "**References for Python libraries used in this assignment**\n",
        "\n",
        "Scikit-learn: Machine Learning in Python, Pedregosa et al., JMLR 12, pp. 2825-2830, 2011.\n",
        "\n",
        "Harris, C.R., Millman, K.J., van der Walt, S.J. et al. Array programming with NumPy. Nature 585, 357–362 (2020). DOI: 10.1038/s41586-020-2649-2. (Publisher link).\n",
        "\n",
        "Paszke, A., Gross, S., Massa, F., Lerer, A., Bradbury, J., Chanan, G., Killeen, T., Lin, Z., Gimelshein, N., Antiga, L., Desmaison, A., Köpf, A., Yang, E., DeVito, Z., Raison, M., Tejani, A., Chilamkurthy, S., Steiner, B., Lu, F., … Chintala, S. (2019). PyTorch: An Imperative Style, High-Performance Deep Learning Library. arXiv.org."
      ]
    },
    {
      "cell_type": "markdown",
      "metadata": {
        "id": "oGCgwQIeDKDR"
      },
      "source": [
        "#1.Setup\n",
        "The instruction to run this code on Google Colab is as follows:\n",
        "\n",
        "Step 1: Create a folder **COMP5328 - Assignment 2** and sub-folder **Datasets** on Google Drive.\n",
        "\n",
        "Step 2: Unzip the file that contains images of CIFAR, FashionMNIST0.5 and FashionMNIST0.6.\n",
        "\n",
        "Step 3: Save the datasets of CIFAR, FashionMNIST0.5 and FashionMNIST0.6 in the newly created sub-folder **Datasets** in **COMP5328 - Assignment 2** on Google Drive.\n",
        "\n",
        "Step 4: Run the section **1.Setup** and **2.Evaluation Metrics** to load the dataset and define evaluation metrics for estimated transition matrix and trained model.\n",
        "\n",
        "Step 5: for estimation of transition mattix, kindly run the code in Section *3.1, 3.2 and 3.3*. If not implementing the estimation of transition matrix, kindkly follow the following steps:\n",
        "- Run the code in Section **3.4** to load all transition matrices \n",
        "- Run the code in Section *4* to set up the settings for evaluation of 02 classifiers\n",
        " - For evaluation of Classifier 1, kindly run the code in **Section 5.1 and 5.5**\n",
        " - For evaluation of Classifier 2, kindly run the code in **Section 6.1 and 6.2**\n",
        "         "
      ]
    },
    {
      "cell_type": "code",
      "execution_count": 1,
      "metadata": {
        "colab": {
          "base_uri": "https://localhost:8080/"
        },
        "id": "R-szv1Kkfx3P",
        "outputId": "c04fe04c-50b3-4767-c212-5996694b51e9"
      },
      "outputs": [
        {
          "output_type": "stream",
          "name": "stdout",
          "text": [
            "Mounted at /content/drive\n"
          ]
        }
      ],
      "source": [
        "# Mounting Google Drive\n",
        "from google.colab import drive\n",
        "drive.mount('/content/drive')"
      ]
    },
    {
      "cell_type": "code",
      "execution_count": 2,
      "metadata": {
        "id": "Q3IOjMCugKyy"
      },
      "outputs": [],
      "source": [
        "from pathlib import Path\n",
        "import os\n",
        "import random\n",
        "from collections import OrderedDict\n",
        "from copy import deepcopy\n",
        "\n",
        "import torch\n",
        "import torch.nn as nn\n",
        "import torch.nn.functional as F\n",
        "import torch.utils.data\n",
        "from torch.utils.data import Dataset, DataLoader\n",
        "import torchvision\n",
        "import torchvision.models\n",
        "import torchvision.transforms\n",
        "\n",
        "from sklearn.model_selection import train_test_split\n",
        "\n",
        "import numpy as np\n",
        "import numpy.linalg as lng\n",
        "import matplotlib.pyplot as plt\n",
        "%matplotlib inline"
      ]
    },
    {
      "cell_type": "code",
      "execution_count": 3,
      "metadata": {
        "id": "WGuxHmMJgNfc"
      },
      "outputs": [],
      "source": [
        "# Retrieve the current directory\n",
        "current_dir = Path.cwd()\n",
        "\n",
        "# Reference the directory of Assignment 2\n",
        "img_dataset_dir = current_dir / \"drive/MyDrive/COMP5328 - Assignment 2/Datasets\"\n",
        "\n",
        "# Reference the directory for trained model storage\n",
        "trained_model_dir = current_dir / \"drive/MyDrive/COMP5328 - Assignment 2/Trained Models\"\n",
        "\n",
        "# Create folder on Google Drive to save trained model\n",
        "if not trained_model_dir.exists():\n",
        "  trained_model_dir.mkdir()\n",
        "\n",
        "# -----------------------------------------------------------------------------\n",
        "\n",
        "# If using a relative path on a personal machine, uncomment this\n",
        "# img_dataset_dir = \"Datasets\" \n",
        "\n",
        "# Run this code line if running the code file on Google Colab\n",
        "img_dataset_dir = current_dir / \"drive/MyDrive/COMP5328 - Assignment 2/Datasets\"\n",
        "\n",
        "cifar_dir = img_dataset_dir / \"CIFAR.npz\"\n",
        "fashion_mnist05_dir = img_dataset_dir / \"FashionMNIST0.5.npz\"\n",
        "fashion_mnist06_dir = img_dataset_dir / \"FashionMNIST0.6.npz\"\n",
        "\n",
        "# Detect if GPU or CPU\n",
        "device = torch.device(\"cuda:0\" if torch.cuda.is_available() else \"cpu\")"
      ]
    },
    {
      "cell_type": "code",
      "execution_count": 4,
      "metadata": {
        "id": "YvuTjpNrFqMF"
      },
      "outputs": [],
      "source": [
        "# The random seeds are fixed to have the python runtime environment become deterministic.\n",
        "def seed_torch(seed=10):\n",
        "    \"\"\"\n",
        "    Function to set seed\n",
        "    \"\"\"\n",
        "    random.seed(seed)\n",
        "    os.environ['PYTHONHASHSEED'] = str(seed)\n",
        "    np.random.seed(seed)\n",
        "    torch.manual_seed(seed)\n",
        "    torch.cuda.manual_seed(seed)\n",
        "    # If multi-GPUs are used. \n",
        "    torch.cuda.manual_seed_all(seed) \n",
        "    torch.backends.cudnn.benchmark = False\n",
        "    torch.backends.cudnn.deterministic = True\n",
        "\n",
        "# Set seed\n",
        "seed_torch()"
      ]
    },
    {
      "cell_type": "code",
      "execution_count": 5,
      "metadata": {
        "id": "tglrRPjbFqUM"
      },
      "outputs": [],
      "source": [
        "# Create a DatasetArray class, which is used as an input of the DataLoader object.\n",
        "class DatasetArray(Dataset):\n",
        "    r\"\"\"This is a child class of the pytorch Dataset object.\"\"\"\n",
        "    def __init__(self, data, labels):\n",
        "        self.data_arr = data.astype(np.float32)\n",
        "        self.label_arr = labels.astype(np.int_)\n",
        "        \n",
        "    def __len__(self):\n",
        "        return len(self.data_arr)\n",
        "    \n",
        "    def __getitem__(self, index):\n",
        "     \n",
        "        data = self.data_arr[index]\n",
        "        label = self.label_arr[index]\n",
        "\n",
        "        return (data, label)"
      ]
    },
    {
      "cell_type": "markdown",
      "metadata": {
        "id": "iTBpL0gXizZY"
      },
      "source": [
        "## 1.1 Load Data\n",
        "\n",
        "Define functions for data loading and present samples of the FashionMINIST0.5, FashionMINIST0.6 and CIFAR datasets."
      ]
    },
    {
      "cell_type": "code",
      "execution_count": 6,
      "metadata": {
        "id": "c2iTmTj09Zb9"
      },
      "outputs": [],
      "source": [
        "def load_data(data_dir):\n",
        "    \"\"\"\n",
        "    input: data directory\n",
        "    ouput: loaded and normalized data \n",
        "    \"\"\"\n",
        "\n",
        "    loaded_data = np.load(data_dir)\n",
        "\n",
        "    # Load and normalize features of training and validation data\n",
        "    data_Xtr_val = loaded_data['Xtr'] / 255\n",
        "\n",
        "    # Load labels of training and validation data\n",
        "    data_Ytr_val = loaded_data['Str']\n",
        "\n",
        "    # Load and normalize features of test data\n",
        "    data_Xts = loaded_data['Xts'] / 255\n",
        "\n",
        "    # Load clean labels\n",
        "    data_Yts = loaded_data['Yts']\n",
        "\n",
        "    # Rearrange the dimensions of data\n",
        "    if data_Xtr_val.ndim == 4: #CIFAR data\n",
        "        data_Xtr_val = np.rollaxis(data_Xtr_val, 3, 1) # from (15000, 32, 32, 3) to (15000, 3, 32, 32)\n",
        "        data_Xts = np.rollaxis(data_Xts, 3, 1) # from (3000, 32, 32, 3) to (3000, 3, 32, 32)\n",
        "\n",
        "    elif data_Xtr_val.ndim == 3: #MNIST data\n",
        "        data_Xtr_val = np.rollaxis(data_Xtr_val[:,:,:,np.newaxis], 3, 1) # from (18000, 28, 28) to (18000, 1, 28, 28)\n",
        "        data_Xts = np.rollaxis(data_Xts[:,:,:,np.newaxis], 3, 1) # from (3000, 28, 28) to (3000, 1, 28, 28)\n",
        "\n",
        "    return data_Xtr_val, data_Ytr_val, data_Xts, data_Yts"
      ]
    },
    {
      "cell_type": "markdown",
      "metadata": {
        "id": "TSYHruADj6FF"
      },
      "source": [
        "### 1.1.1 CIFAR Dataset"
      ]
    },
    {
      "cell_type": "code",
      "execution_count": 7,
      "metadata": {
        "id": "MWUA4aHEVJup",
        "colab": {
          "base_uri": "https://localhost:8080/"
        },
        "outputId": "98086c4b-765b-4844-a464-a8d31f1248c5"
      },
      "outputs": [
        {
          "output_type": "stream",
          "name": "stdout",
          "text": [
            "CIFAR: Xtr.shape = (15000, 3, 32, 32), Ytr.shape = (15000,)\n",
            "CIFAR: Xts.shape = (3000, 3, 32, 32), Yts.shape = (3000,)\n"
          ]
        }
      ],
      "source": [
        "cifar_data_Xtr_val, cifar_data_Ytr_val, cifar_data_Xts, cifar_data_Yts = load_data(cifar_dir)\n",
        "\n",
        "print('CIFAR: Xtr.shape = {}, Ytr.shape = {}'.format(cifar_data_Xtr_val.shape, cifar_data_Ytr_val.shape))\n",
        "print('CIFAR: Xts.shape = {}, Yts.shape = {}'.format(cifar_data_Xts.shape, cifar_data_Yts.shape))"
      ]
    },
    {
      "cell_type": "code",
      "execution_count": 8,
      "metadata": {
        "colab": {
          "base_uri": "https://localhost:8080/",
          "height": 130
        },
        "id": "tBa9MIWxu1hF",
        "outputId": "333f0b14-1cdb-48c4-cb0f-7560936189a8"
      },
      "outputs": [
        {
          "output_type": "display_data",
          "data": {
            "text/plain": [
              "<Figure size 720x720 with 6 Axes>"
            ],
            "image/png": "[encoded data removed]"
          },
          "metadata": {}
        }
      ],
      "source": [
        "# Examples of loaded noisy data\n",
        "plt.figure(figsize=(10,10))\n",
        "for i in range(6):\n",
        "    plt.subplot(1, 6, i+1)\n",
        "    plt.imshow(np.transpose(cifar_data_Xtr_val[i], (1, 2, 0)))\n",
        "    plt.xticks(())\n",
        "    plt.yticks(())\n",
        "\n",
        "    label = cifar_data_Ytr_val[i]\n",
        "    plt.title(\"Data Label: {}\".format(label), size=12)"
      ]
    },
    {
      "cell_type": "markdown",
      "metadata": {
        "id": "seJle13NlALa"
      },
      "source": [
        "### 1.1.2 FashionMNIST0.5 Dataset"
      ]
    },
    {
      "cell_type": "code",
      "execution_count": 9,
      "metadata": {
        "id": "qL8Op-y-6_Kr",
        "colab": {
          "base_uri": "https://localhost:8080/"
        },
        "outputId": "e29bd820-6d7d-4e59-e46f-1696bcd99690"
      },
      "outputs": [
        {
          "output_type": "stream",
          "name": "stdout",
          "text": [
            "FashionMNIST0.5: Xtr.shape = (18000, 1, 28, 28), Ytr.shape = (18000,)\n",
            "FashionMNIST0.5: Xts.shape = (3000, 1, 28, 28), Yts.shape = (3000,)\n"
          ]
        }
      ],
      "source": [
        "fashion_mnist05_Xtr_val, fashion_mnist05_Ytr_val, fashion_mnist05_data_Xts, fashion_mnist05_data_Yts = load_data(fashion_mnist05_dir)\n",
        "\n",
        "print('FashionMNIST0.5: Xtr.shape = {}, Ytr.shape = {}'.format(fashion_mnist05_Xtr_val.shape, fashion_mnist05_Ytr_val.shape))\n",
        "print('FashionMNIST0.5: Xts.shape = {}, Yts.shape = {}'.format(fashion_mnist05_data_Xts.shape, fashion_mnist05_data_Yts.shape))"
      ]
    },
    {
      "cell_type": "code",
      "execution_count": 10,
      "metadata": {
        "colab": {
          "base_uri": "https://localhost:8080/",
          "height": 130
        },
        "id": "-B98wBV9u5mc",
        "outputId": "93425863-74fb-45f0-eaba-515280ab61ea"
      },
      "outputs": [
        {
          "output_type": "display_data",
          "data": {
            "text/plain": [
              "<Figure size 720x720 with 6 Axes>"
            ],
            "image/png": "[encoded data removed]"
          },
          "metadata": {}
        }
      ],
      "source": [
        "# Examples of loaded noisy data\n",
        "plt.figure(figsize=(10,10))\n",
        "for i in range(6):\n",
        "    plt.subplot(1, 6, i+1)\n",
        "    plt.imshow(np.squeeze(np.transpose(fashion_mnist05_Xtr_val[i], (1, 2, 0))))\n",
        "    plt.xticks(())\n",
        "    plt.yticks(())\n",
        "\n",
        "    label = fashion_mnist05_Ytr_val[i]\n",
        "    plt.title(\"Data Label: {}\".format(label), size=12)"
      ]
    },
    {
      "cell_type": "markdown",
      "metadata": {
        "id": "0G51m-32lEtx"
      },
      "source": [
        "### 1.1.3 FashionMNIST0.6 Dataset"
      ]
    },
    {
      "cell_type": "code",
      "execution_count": 11,
      "metadata": {
        "id": "B70SSaiflH_G",
        "colab": {
          "base_uri": "https://localhost:8080/"
        },
        "outputId": "ebdf9314-97b3-4d46-83f8-de3148a7efa9"
      },
      "outputs": [
        {
          "output_type": "stream",
          "name": "stdout",
          "text": [
            "FashionMNIST0.6: Xtr.shape = (18000, 1, 28, 28), Ytr.shape = (18000,)\n",
            "FashionMNIST0.6: Xts.shape = (3000, 1, 28, 28), Yts.shape = (3000,)\n"
          ]
        }
      ],
      "source": [
        "fashion_mnist06_Xtr_val, fashion_mnist06_Ytr_val, fashion_mnist06_data_Xts, fashion_mnist06_data_Yts = load_data(fashion_mnist06_dir)\n",
        "\n",
        "print('FashionMNIST0.6: Xtr.shape = {}, Ytr.shape = {}'.format(fashion_mnist06_Xtr_val.shape, fashion_mnist06_Ytr_val.shape))\n",
        "print('FashionMNIST0.6: Xts.shape = {}, Yts.shape = {}'.format(fashion_mnist06_data_Xts.shape, fashion_mnist06_data_Yts.shape))"
      ]
    },
    {
      "cell_type": "code",
      "execution_count": 12,
      "metadata": {
        "colab": {
          "base_uri": "https://localhost:8080/",
          "height": 130
        },
        "id": "oeYKxPz8u9Gl",
        "outputId": "71d7ff87-6a90-457a-ffad-8e276f329dde"
      },
      "outputs": [
        {
          "output_type": "display_data",
          "data": {
            "text/plain": [
              "<Figure size 720x720 with 6 Axes>"
            ],
            "image/png": "[encoded data removed]"
          },
          "metadata": {}
        }
      ],
      "source": [
        "# Examples of loaded noisy data\n",
        "plt.figure(figsize=(10,10))\n",
        "for i in range(6):\n",
        "    plt.subplot(1, 6, i+1)\n",
        "    plt.imshow(np.squeeze(np.transpose(fashion_mnist06_Xtr_val[i], (1, 2, 0))))\n",
        "    plt.xticks(())\n",
        "    plt.yticks(())\n",
        "\n",
        "    label = fashion_mnist06_Ytr_val[i]\n",
        "\n",
        "    plt.title(\"Data Label: {}\".format(label), size=12)"
      ]
    },
    {
      "cell_type": "markdown",
      "metadata": {
        "id": "QxffEBTXpLi6"
      },
      "source": [
        "### 1.1.4 Load Transition Matrix"
      ]
    },
    {
      "cell_type": "code",
      "execution_count": 13,
      "metadata": {
        "id": "lYHtF29l69_d"
      },
      "outputs": [],
      "source": [
        "transition_matrices = {'fashionmnist0.5': torch.Tensor([[0.5, 0.2, 0.3], [0.3, 0.5, 0.2], [0.2, 0.3, 0.5]]),\n",
        "                       'fashionmnist0.6': torch.Tensor([[0.4, 0.3, 0.3], [0.3, 0.4, 0.3], [0.3, 0.3, 0.4]]),\n",
        "                       'cifar': None}"
      ]
    },
    {
      "cell_type": "markdown",
      "metadata": {
        "id": "fw_uziInNGe6"
      },
      "source": [
        "#2.Evaluation Metrics"
      ]
    },
    {
      "cell_type": "markdown",
      "metadata": {
        "id": "sq-FL1f7eNP0"
      },
      "source": [
        "**Accuracy (Top-1)**"
      ]
    },
    {
      "cell_type": "code",
      "execution_count": 14,
      "metadata": {
        "id": "zEHATIpBeNP0"
      },
      "outputs": [],
      "source": [
        "# Calcuate the accuracy according to the prediction and the true label.\n",
        "def accuracy(output, target, topk=(1,)):\n",
        "    \n",
        "    maxk = max(topk)\n",
        "    batch_size = target.size(0)\n",
        "\n",
        "    _, pred = output.topk(maxk, 1, True, True)\n",
        "    pred = pred.t()\n",
        "    correct = pred.eq(target.view(1, -1).expand_as(pred))\n",
        "\n",
        "    res = []\n",
        "    for k in topk:\n",
        "        correct_k = correct[:k].view(-1).float().sum(0)\n",
        "        res.append(correct_k.mul_(100.0 / batch_size))\n",
        "    return res"
      ]
    },
    {
      "cell_type": "markdown",
      "metadata": {
        "id": "H-jPoxjJeNP1"
      },
      "source": [
        "**Relative Error**"
      ]
    },
    {
      "cell_type": "code",
      "execution_count": 15,
      "metadata": {
        "id": "43Vq17ePeNP1"
      },
      "outputs": [],
      "source": [
        "def relative_error(T_hat, T):\n",
        "    \"\"\"\n",
        "    T_hat: The estimated transition matrix\n",
        "    T: The provided transition matrix\n",
        "    \"\"\"\n",
        "    rre_numerator = np.linalg.norm(T_hat-T, ord = \"fro\")\n",
        "    rre_denominator = np.linalg.norm(T_hat, ord = \"fro\") \n",
        "    rre = rre_numerator/rre_denominator\n",
        "    return rre"
      ]
    },
    {
      "cell_type": "markdown",
      "metadata": {
        "id": "kkbeXsAOeNP1"
      },
      "source": [
        "#3.Transition Matrix"
      ]
    },
    {
      "cell_type": "markdown",
      "metadata": {
        "id": "WituyjoXNjbX"
      },
      "source": [
        "**Load Data**"
      ]
    },
    {
      "cell_type": "code",
      "execution_count": 16,
      "metadata": {
        "id": "5Zu-QLkOFc0R"
      },
      "outputs": [],
      "source": [
        "cifar_train_data = DatasetArray(data = cifar_data_Xtr_val, labels = cifar_data_Ytr_val)\n",
        "cifar_train_loader = DataLoader(\n",
        "    cifar_train_data,\n",
        "    batch_size = 128,\n",
        "    shuffle = True,\n",
        "    num_workers = 1)\n",
        "\n",
        "fashion_mnist05_train_data = DatasetArray(data = fashion_mnist05_Xtr_val, labels = fashion_mnist05_Ytr_val)\n",
        "fashion_mnist05_train_loader = DataLoader(\n",
        "    fashion_mnist05_train_data,\n",
        "    batch_size = 128,\n",
        "    shuffle = True,\n",
        "    num_workers = 1)\n",
        "\n",
        "fashion_mnist06_train_data = DatasetArray(data = fashion_mnist06_Xtr_val, labels = fashion_mnist06_Ytr_val)\n",
        "fashion_mnist06_train_loader = DataLoader(\n",
        "    fashion_mnist06_train_data,\n",
        "    batch_size = 128,\n",
        "    shuffle = True,\n",
        "    num_workers = 1)"
      ]
    },
    {
      "cell_type": "markdown",
      "metadata": {
        "id": "0_IUGCYBeNP2"
      },
      "source": [
        "**Training Processes**\n",
        "\n",
        "The ResNet18 model, predefined in TorchVision, is used with the below training and evaluation processes to estimate the transition matrix. Predefined weights are not used."
      ]
    },
    {
      "cell_type": "code",
      "execution_count": 17,
      "metadata": {
        "id": "9Njtt0vRe6pG"
      },
      "outputs": [],
      "source": [
        "# Define the training process.\n",
        "def train(data_loader, model, n_epochs = 15):\n",
        "\n",
        "    optimizer = torch.optim.SGD(model.parameters(), lr=0.001, momentum=0.9, weight_decay = 1e-5)\n",
        "    loss_function = torch.nn.CrossEntropyLoss()\n",
        "\n",
        "    # Set model to train mode\n",
        "    model.to(device)\n",
        "    model.train()\n",
        "    best_model_weights = deepcopy(model.state_dict())\n",
        "\n",
        "    for n_epoch in range(n_epochs):\n",
        "\n",
        "        model_loss = 0.0\n",
        "        correct_prediction = 0\n",
        "        total = 0\n",
        "\n",
        "        for batch_i, (X, Y) in enumerate(data_loader):\n",
        "            # prepare data input\n",
        "            X = X.to(device)\n",
        "            Y = Y.to(device)\n",
        "\n",
        "            output = model(X)\n",
        "\n",
        "            loss = loss_function(output, Y)\n",
        "\n",
        "            _, prediction = torch.max(output, 1)\n",
        "\n",
        "            optimizer.zero_grad()\n",
        "            loss.backward()\n",
        "            optimizer.step()\n",
        "\n",
        "            total += Y.size(0)\n",
        "        \n",
        "            model_loss += loss.item() * X.size(0)\n",
        "\n",
        "            correct_prediction += torch.sum(prediction == Y.data)\n",
        "            # if batch_i % 100 == 0: # Output Results\n",
        "            #   print(\"Epoch {} - Loss of batch {} is: {:.4f} and {}\".format(n_epoch, batch_i, loss.item(), model_loss))\n",
        "\n",
        "        # calculate loss and accuracy\n",
        "        epoch_loss = model_loss / len(data_loader.dataset)\n",
        "        epoch_acc = correct_prediction / total\n",
        "    \n",
        "        # record accuary and cross entropy losss\n",
        "        print(\"Train epoch is: {} and Model Loss and Accuracy are: {} and {}%\".format(n_epoch + 1, round(epoch_loss, 3), torch.round(100 * epoch_acc)))\n",
        "\n",
        "    model.load_state_dict(best_model_weights)\n",
        "\n",
        "    return model"
      ]
    },
    {
      "cell_type": "code",
      "execution_count": 18,
      "metadata": {
        "id": "XHjflyx_iJtA"
      },
      "outputs": [],
      "source": [
        "# Calcuate the accuracy according to the predicted and the true labels.\n",
        "def eval(model, val_data_loader, device):\n",
        "  \n",
        "    model.eval()\n",
        "\n",
        "    # Create tesors that store results of predicted labels \n",
        "    y_true = torch.tensor([], dtype = torch.long, device = device)\n",
        "    all_labels = torch.tensor([], device = device)\n",
        "\n",
        "    with torch.no_grad():\n",
        "        for inputs, labels in val_data_loader:\n",
        "            inputs = inputs.to(device)\n",
        "            labels = labels.to(device)\n",
        "\n",
        "            predicted_labels = model(inputs)\n",
        "            y_true = torch.cat((y_true, labels), 0)\n",
        "            all_labels = torch.cat((all_labels, predicted_labels), 0)\n",
        "\n",
        "    # Obtain the outputs from softmax function:\n",
        "    outputs = F.softmax(all_labels, dim = 1)\n",
        "\n",
        "    # Convert the true labels to numpy\n",
        "    y_true = y_true.cpu().numpy()\n",
        "\n",
        "    # Get predicted values from the model\n",
        "    _, y_pred = torch.max(all_labels, 1)\n",
        "  \n",
        "    # Convert the predicted labels to numpy\n",
        "    y_pred = y_pred.cpu().numpy()\n",
        "  \n",
        "    # Calculate model accuracy\n",
        "    model_accuracy = sum(y_true == y_pred)/len(y_pred)\n",
        "\n",
        "    return y_true, y_pred, model_accuracy, outputs"
      ]
    },
    {
      "cell_type": "code",
      "execution_count": 19,
      "metadata": {
        "id": "zVJ3xSsBtbLT"
      },
      "outputs": [],
      "source": [
        "def estimate_transition_matrix(model, train_data_loader, device = device, epochs = 15):\n",
        "    trained_model = train(data_loader = train_data_loader, model = model, n_epochs = epochs)\n",
        "\n",
        "    _, y_pred, _, noisy_class_posterior = eval(model = trained_model, val_data_loader = train_data_loader, device = device) # Softmax\n",
        "    prediction = torch.argmax(noisy_class_posterior, dim = 0) # Anchor Points\n",
        "    \n",
        "#     print(noisy_class_posterior)\n",
        "#     print(noisy_class_posterior.shape)\n",
        "\n",
        "#     print(prediction)\n",
        "#     print(prediction.shape)\n",
        "        \n",
        "    T = torch.zeros((3, 3))\n",
        "    for class_i in range(3):\n",
        "        T[class_i] = noisy_class_posterior[prediction[class_i]]\n",
        "\n",
        "    return T.detach().numpy()\n",
        "\n",
        "# -----------------------------------------------------------------------------"
      ]
    },
    {
      "cell_type": "markdown",
      "metadata": {
        "id": "EbiLgHKieNP3"
      },
      "source": [
        "### 3.1 CIFAR"
      ]
    },
    {
      "cell_type": "markdown",
      "metadata": {
        "id": "OMssC2oReNP3"
      },
      "source": [
        "**Estimate Transition Matrix**"
      ]
    },
    {
      "cell_type": "code",
      "execution_count": 20,
      "metadata": {
        "id": "B4lwOp6JeNP3",
        "colab": {
          "base_uri": "https://localhost:8080/"
        },
        "outputId": "3e64053c-584d-4531-942d-22778d523a7c"
      },
      "outputs": [
        {
          "output_type": "stream",
          "name": "stdout",
          "text": [
            "Train epoch is: 1 and Model Loss and Accuracy are: 1.158 and 35.0%\n",
            "Train epoch is: 2 and Model Loss and Accuracy are: 1.108 and 37.0%\n",
            "Train epoch is: 3 and Model Loss and Accuracy are: 1.067 and 43.0%\n",
            "Train epoch is: 4 and Model Loss and Accuracy are: 1.021 and 48.0%\n",
            "Train epoch is: 5 and Model Loss and Accuracy are: 0.958 and 54.0%\n",
            "Train epoch is: 6 and Model Loss and Accuracy are: 0.877 and 60.0%\n",
            "Train epoch is: 7 and Model Loss and Accuracy are: 0.802 and 65.0%\n",
            "Train epoch is: 8 and Model Loss and Accuracy are: 0.71 and 70.0%\n",
            "Train epoch is: 9 and Model Loss and Accuracy are: 0.607 and 75.0%\n",
            "Train epoch is: 10 and Model Loss and Accuracy are: 0.532 and 78.0%\n",
            "Train epoch is: 11 and Model Loss and Accuracy are: 0.483 and 81.0%\n",
            "Train epoch is: 12 and Model Loss and Accuracy are: 0.402 and 84.0%\n",
            "Train epoch is: 13 and Model Loss and Accuracy are: 0.324 and 88.0%\n",
            "Train epoch is: 14 and Model Loss and Accuracy are: 0.296 and 89.0%\n",
            "Train epoch is: 15 and Model Loss and Accuracy are: 0.247 and 91.0%\n",
            "\n",
            "\n",
            "The estimated Transition Matrix is:\n",
            "\n",
            "[[0.4009205  0.21704781 0.38203168]\n",
            " [0.34578598 0.31487453 0.33933955]\n",
            " [0.35156542 0.23229724 0.41613737]]\n"
          ]
        }
      ],
      "source": [
        "seed_torch()\n",
        "\n",
        "model = torchvision.models.resnet18(weights = None).to(device) # Not using pretrained weights\n",
        "model.fc = nn.Linear(model.fc.in_features, 3)\n",
        "cifar_Tmatrix = estimate_transition_matrix(model, cifar_train_loader, device, epochs = 15)\n",
        "\n",
        "print(\"\\n\")\n",
        "print(\"The estimated Transition Matrix is:\\n\")\n",
        "print(cifar_Tmatrix)"
      ]
    },
    {
      "cell_type": "markdown",
      "metadata": {
        "id": "O0Dm4i3qOhOq"
      },
      "source": [
        "### 3.2 FashionMNIST0.5"
      ]
    },
    {
      "cell_type": "markdown",
      "metadata": {
        "id": "fMc8KZWZeNP3"
      },
      "source": [
        "**Estimate Transition Matrix**"
      ]
    },
    {
      "cell_type": "code",
      "execution_count": 21,
      "metadata": {
        "id": "Wgh08pBxOhY4",
        "colab": {
          "base_uri": "https://localhost:8080/"
        },
        "outputId": "fbdb1fdc-c58e-4078-9fb6-544feb0418ca"
      },
      "outputs": [
        {
          "output_type": "stream",
          "name": "stdout",
          "text": [
            "Train epoch is: 1 and Model Loss and Accuracy are: 1.109 and 42.0%\n",
            "Train epoch is: 2 and Model Loss and Accuracy are: 1.046 and 47.0%\n",
            "Train epoch is: 3 and Model Loss and Accuracy are: 1.004 and 51.0%\n",
            "Train epoch is: 4 and Model Loss and Accuracy are: 0.963 and 53.0%\n",
            "Train epoch is: 5 and Model Loss and Accuracy are: 0.906 and 58.0%\n",
            "Train epoch is: 6 and Model Loss and Accuracy are: 0.868 and 60.0%\n",
            "Train epoch is: 7 and Model Loss and Accuracy are: 0.817 and 63.0%\n",
            "Train epoch is: 8 and Model Loss and Accuracy are: 0.756 and 67.0%\n",
            "Train epoch is: 9 and Model Loss and Accuracy are: 0.71 and 69.0%\n",
            "Train epoch is: 10 and Model Loss and Accuracy are: 0.654 and 72.0%\n",
            "Train epoch is: 11 and Model Loss and Accuracy are: 0.615 and 74.0%\n",
            "Train epoch is: 12 and Model Loss and Accuracy are: 0.553 and 77.0%\n",
            "Train epoch is: 13 and Model Loss and Accuracy are: 0.544 and 77.0%\n",
            "Train epoch is: 14 and Model Loss and Accuracy are: 0.48 and 80.0%\n",
            "Train epoch is: 15 and Model Loss and Accuracy are: 0.443 and 82.0%\n",
            "\n",
            "\n",
            "The estimated Transition Matrix is:\n",
            "\n",
            "[[0.40444133 0.29939917 0.29615957]\n",
            " [0.35011917 0.35100132 0.29887947]\n",
            " [0.32579473 0.30297795 0.37122735]]\n"
          ]
        }
      ],
      "source": [
        "seed_torch()\n",
        "\n",
        "model = torchvision.models.resnet18(weights = None).to(device) # Not using pretrained weights\n",
        "model.conv1 = nn.Conv2d(in_channels = 1, out_channels = 64, kernel_size = 7, stride=2, padding=3, bias=False)\n",
        "model.fc = nn.Linear(model.fc.in_features, 3)\n",
        "\n",
        "fashion_mnist05_Tmatrix = estimate_transition_matrix(model, fashion_mnist05_train_loader, device, epochs = 15)\n",
        "\n",
        "print(\"\\n\")\n",
        "print(\"The estimated Transition Matrix is:\\n\")\n",
        "print(fashion_mnist05_Tmatrix)"
      ]
    },
    {
      "cell_type": "markdown",
      "metadata": {
        "id": "EYHrziH1eNP4"
      },
      "source": [
        "**Evaluate Accuracy**"
      ]
    },
    {
      "cell_type": "code",
      "execution_count": 22,
      "metadata": {
        "id": "WzBNm_E9eNP4",
        "colab": {
          "base_uri": "https://localhost:8080/"
        },
        "outputId": "edb0807b-09f4-4cec-b0ee-75d4e82d0d91"
      },
      "outputs": [
        {
          "output_type": "stream",
          "name": "stdout",
          "text": [
            "0.29142883\n"
          ]
        }
      ],
      "source": [
        "fashion_mnist05_re = relative_error(fashion_mnist05_Tmatrix, transition_matrices['fashionmnist0.5'].detach().numpy())\n",
        "print(fashion_mnist05_re) "
      ]
    },
    {
      "cell_type": "markdown",
      "metadata": {
        "id": "jeCDoAZbOhj0"
      },
      "source": [
        "### 3.3. FashionMNIST0.6"
      ]
    },
    {
      "cell_type": "markdown",
      "metadata": {
        "id": "D2BO3W0LeNP4"
      },
      "source": [
        "**Estimate Transition Matrix**"
      ]
    },
    {
      "cell_type": "code",
      "execution_count": 23,
      "metadata": {
        "id": "OLuj6wgGOht5",
        "colab": {
          "base_uri": "https://localhost:8080/"
        },
        "outputId": "43964ea4-c7f6-47be-bf9e-665fc4ddcd73"
      },
      "outputs": [
        {
          "output_type": "stream",
          "name": "stdout",
          "text": [
            "Train epoch is: 1 and Model Loss and Accuracy are: 1.156 and 35.0%\n",
            "Train epoch is: 2 and Model Loss and Accuracy are: 1.101 and 39.0%\n",
            "Train epoch is: 3 and Model Loss and Accuracy are: 1.058 and 44.0%\n",
            "Train epoch is: 4 and Model Loss and Accuracy are: 1.018 and 49.0%\n",
            "Train epoch is: 5 and Model Loss and Accuracy are: 0.968 and 53.0%\n",
            "Train epoch is: 6 and Model Loss and Accuracy are: 0.926 and 56.0%\n",
            "Train epoch is: 7 and Model Loss and Accuracy are: 0.88 and 59.0%\n",
            "Train epoch is: 8 and Model Loss and Accuracy are: 0.837 and 62.0%\n",
            "Train epoch is: 9 and Model Loss and Accuracy are: 0.78 and 65.0%\n",
            "Train epoch is: 10 and Model Loss and Accuracy are: 0.726 and 68.0%\n",
            "Train epoch is: 11 and Model Loss and Accuracy are: 0.67 and 71.0%\n",
            "Train epoch is: 12 and Model Loss and Accuracy are: 0.633 and 72.0%\n",
            "Train epoch is: 13 and Model Loss and Accuracy are: 0.575 and 76.0%\n",
            "Train epoch is: 14 and Model Loss and Accuracy are: 0.529 and 78.0%\n",
            "Train epoch is: 15 and Model Loss and Accuracy are: 0.494 and 79.0%\n",
            "\n",
            "\n",
            "The estimated Transition Matrix is:\n",
            "\n",
            "[[0.40444133 0.29939917 0.29615957]\n",
            " [0.35011917 0.35100132 0.29887947]\n",
            " [0.32579473 0.30297795 0.37122735]]\n"
          ]
        }
      ],
      "source": [
        "seed_torch()\n",
        "\n",
        "model = torchvision.models.resnet18(weights = None).to(device) # Not using pretrained weights\n",
        "model.conv1 = nn.Conv2d(in_channels = 1, out_channels = 64, kernel_size = 7, stride=2, padding=3, bias=False)\n",
        "model.fc = nn.Linear(model.fc.in_features, 3)\n",
        "\n",
        "fashion_mnist06_Tmatrix = estimate_transition_matrix(model, fashion_mnist06_train_loader, device, epochs = 15)\n",
        "\n",
        "print(\"\\n\")\n",
        "print(\"The estimated Transition Matrix is:\\n\")\n",
        "print(fashion_mnist06_Tmatrix)"
      ]
    },
    {
      "cell_type": "markdown",
      "metadata": {
        "id": "cKRuu8gqeNP4"
      },
      "source": [
        "**Evaluate Accuracy**"
      ]
    },
    {
      "cell_type": "code",
      "execution_count": 24,
      "metadata": {
        "id": "cG4t-uUkeNP5",
        "colab": {
          "base_uri": "https://localhost:8080/"
        },
        "outputId": "0b767c98-be1f-4bb5-c7d9-79bbd8ddad16"
      },
      "outputs": [
        {
          "output_type": "stream",
          "name": "stdout",
          "text": [
            "0.07984894\n"
          ]
        }
      ],
      "source": [
        "fashion_mnist06_re = relative_error(fashion_mnist06_Tmatrix, transition_matrices['fashionmnist0.6'].detach().numpy())\n",
        "print(fashion_mnist06_re)"
      ]
    },
    {
      "cell_type": "markdown",
      "source": [
        "### 3.4. Adding estimated Transition Matrix for CIFAR"
      ],
      "metadata": {
        "id": "fxYHBOUkl2lC"
      }
    },
    {
      "cell_type": "code",
      "source": [
        "transition_matrices['cifar'] = torch.Tensor([[0.4009205, 0.21704781, 0.38203168], \n",
        "                                             [0.34578598, 0.31487453, 0.33933955], \n",
        "                                             [0.35156542, 0.23229724, 0.41613737]])\n",
        "\n",
        "# Print all transition matrices:\n",
        "transition_matrices"
      ],
      "metadata": {
        "id": "zUl2BrcAl8v2",
        "colab": {
          "base_uri": "https://localhost:8080/"
        },
        "outputId": "8f029b32-cdf4-44f7-a9d8-33ca5b3bfd68"
      },
      "execution_count": 25,
      "outputs": [
        {
          "output_type": "execute_result",
          "data": {
            "text/plain": [
              "{'fashionmnist0.5': tensor([[0.5000, 0.2000, 0.3000],\n",
              "         [0.3000, 0.5000, 0.2000],\n",
              "         [0.2000, 0.3000, 0.5000]]),\n",
              " 'fashionmnist0.6': tensor([[0.4000, 0.3000, 0.3000],\n",
              "         [0.3000, 0.4000, 0.3000],\n",
              "         [0.3000, 0.3000, 0.4000]]),\n",
              " 'cifar': tensor([[0.4009, 0.2170, 0.3820],\n",
              "         [0.3458, 0.3149, 0.3393],\n",
              "         [0.3516, 0.2323, 0.4161]])}"
            ]
          },
          "metadata": {},
          "execution_count": 25
        }
      ]
    },
    {
      "cell_type": "markdown",
      "metadata": {
        "id": "g2kIFWDpw3ZC"
      },
      "source": [
        "#4.Evaluation Functions"
      ]
    },
    {
      "cell_type": "markdown",
      "metadata": {
        "id": "CEJVEoZj-q-h"
      },
      "source": [
        "### 4.1 Define function to split the data for training and validation"
      ]
    },
    {
      "cell_type": "markdown",
      "source": [
        "#### Define function to split the data for an experiment in sections 5.3 and 5.4"
      ],
      "metadata": {
        "id": "mvdzzJKs25ZI"
      }
    },
    {
      "cell_type": "code",
      "execution_count": 26,
      "metadata": {
        "id": "FmOUXzwE1Nbk"
      },
      "outputs": [],
      "source": [
        "def data_loader_function(train_val_data, train_val_label, test_data, test_label, random_state = 12, data_split = 0.2, batch_size = 100, num_workers = 1):\n",
        "    \"\"\"\n",
        "    - Input:\n",
        "    train_val_data: dataset contains training and validation data\n",
        "    train_val_label: dataset contains labels of training and validation data\n",
        "    test_data: dataset contains test data (data without noise)\n",
        "    test_label: dataset contains labels of test data (data without noise)\n",
        "    data_split: ratio to split dataset into training and validation datasets\n",
        "    batch_size: size of each batch loaded to cnn model\n",
        "    num_workers: 1 (default value)\n",
        "    - Output:\n",
        "    The corresponding DataLoader objects (train data, validation data and test data) are returned\n",
        "    \"\"\"\n",
        "    \n",
        "    train_data, val_data, train_label, val_label = train_test_split(train_val_data, \n",
        "                                                                    train_val_label, \n",
        "                                                                    test_size = data_split, \n",
        "                                                                    random_state = random_state,\n",
        "                                                                    stratify = train_val_label)\n",
        "\n",
        "    train_data = DatasetArray(data = train_data, labels = train_label)\n",
        "    val_data = DatasetArray(data = val_data, labels = val_label)\n",
        "    test_data = DatasetArray(data = test_data, labels = test_label)\n",
        "\n",
        "    train_loader = DataLoader(\n",
        "        train_data,\n",
        "        batch_size = batch_size,\n",
        "        shuffle = True,\n",
        "        num_workers = num_workers,\n",
        "    )\n",
        "\n",
        "    val_loader = DataLoader(\n",
        "        val_data,\n",
        "        batch_size = batch_size,\n",
        "        shuffle = False,\n",
        "        num_workers = num_workers,\n",
        "    )\n",
        "\n",
        "    test_loader = DataLoader(\n",
        "        test_data,\n",
        "        batch_size = batch_size,\n",
        "        num_workers = num_workers,\n",
        "        shuffle = False,\n",
        "    )\n",
        "\n",
        "    return train_loader, val_loader, test_loader"
      ]
    },
    {
      "cell_type": "markdown",
      "source": [
        "#### Define function to split the data for an performance evaluation in sections 5.5 and 6.2"
      ],
      "metadata": {
        "id": "XIS946HX3Hb-"
      }
    },
    {
      "cell_type": "code",
      "source": [
        "def data_loader_for_evaluation_function(train_val_data, train_val_label, test_data, test_label, data_split = 0.2, batch_size = 100, num_workers = 1):\n",
        "    \"\"\"\n",
        "    - Input:\n",
        "    train_val_data: dataset contains training and validation data\n",
        "    train_val_label: dataset contains labels of training and validation data\n",
        "    test_data: dataset contains test data (data without noise)\n",
        "    test_label: dataset contains labels of test data (data without noise)\n",
        "    data_split: ratio to split dataset into training and validation datasets (default value: 0.2)\n",
        "    batch_size: size of each batch loaded to cnn model\n",
        "    num_workers: 1 (default value)\n",
        "    - Output:\n",
        "    The corresponding DataLoader objects (train data, validation data and test data) are returned\n",
        "    \"\"\"\n",
        "    \n",
        "    # Split dataset into 80% training and 20% validation \n",
        "    train_data, val_data, train_label, val_label = train_test_split(train_val_data, \n",
        "                                                                    train_val_label, \n",
        "                                                                    test_size = data_split)\n",
        "\n",
        "    train_data = DatasetArray(data = train_data, labels = train_label)\n",
        "    val_data = DatasetArray(data = val_data, labels = val_label)\n",
        "    test_data = DatasetArray(data = test_data, labels = test_label)\n",
        "\n",
        "    train_loader = DataLoader(\n",
        "        train_data,\n",
        "        batch_size = batch_size,\n",
        "        shuffle = True,\n",
        "        num_workers = num_workers,\n",
        "    )\n",
        "\n",
        "    val_loader = DataLoader(\n",
        "        val_data,\n",
        "        batch_size = batch_size,\n",
        "        shuffle = False,\n",
        "        num_workers = num_workers,\n",
        "    )\n",
        "\n",
        "    test_loader = DataLoader(\n",
        "        test_data,\n",
        "        batch_size = batch_size,\n",
        "        num_workers = num_workers,\n",
        "        shuffle = False,\n",
        "    )\n",
        "\n",
        "    return train_loader, val_loader, test_loader"
      ],
      "metadata": {
        "id": "FeEIAgBd3PIz"
      },
      "execution_count": 27,
      "outputs": []
    },
    {
      "cell_type": "markdown",
      "metadata": {
        "id": "Frt-gL4y-1gl"
      },
      "source": [
        "### 4.2 Define function to evaluate model performance"
      ]
    },
    {
      "cell_type": "code",
      "execution_count": 28,
      "metadata": {
        "id": "2Wn93GoiVyXF"
      },
      "outputs": [],
      "source": [
        "# A helper function which is used to record the experiment results.\n",
        "class AverageMeter(object):\n",
        "    def __init__(self):\n",
        "        self.reset()\n",
        "\n",
        "    def reset(self):\n",
        "        self.val = 0\n",
        "        self.avg = 0\n",
        "        self.sum = 0\n",
        "        self.count = 0\n",
        "\n",
        "    def update(self, val, num):\n",
        "        self.val = val\n",
        "        self.sum += val * num\n",
        "        self.count += num\n",
        "        self.avg = self.sum / self.count"
      ]
    },
    {
      "cell_type": "code",
      "execution_count": 29,
      "metadata": {
        "id": "fq0pEC2LEElw"
      },
      "outputs": [],
      "source": [
        "# def evaluation_function(epoch, model, loss_function, val_loader, is_test=False):\n",
        "def evaluation_function(epoch, model, loss_function, val_loader):\n",
        "    \"\"\"This function is used to evaluate the performance of model.\"\"\"\n",
        "    \n",
        "    top1_acc_meter = AverageMeter()\n",
        "    loss_meter = AverageMeter()\n",
        "\n",
        "    # swith model to to eval mode\n",
        "    model.eval()\n",
        "    for step, (data, targets) in enumerate(val_loader):\n",
        "        # prepare min_batch\n",
        "        data = data.to(device)\n",
        "        targets = targets.to(device)\n",
        "\n",
        "        # predict\n",
        "        with torch.no_grad():\n",
        "            preds = model(data)\n",
        "\n",
        "        # forward\n",
        "        loss = loss_function(preds, targets)\n",
        "            \n",
        "        # calculate accuracy\n",
        "        [top1_acc] = accuracy(preds.data, targets.data, topk=(1,))\n",
        "  \n",
        "        # record accuary and cross entropy losss\n",
        "        min_batch_size = data.size(0)\n",
        "        top1_acc_meter.update(top1_acc.item(), min_batch_size)\n",
        "        loss_meter.update(loss.item(), min_batch_size)\n",
        "\n",
        "    top1_acc_avg = top1_acc_meter.avg\n",
        "\n",
        "    return top1_acc_avg"
      ]
    },
    {
      "cell_type": "markdown",
      "metadata": {
        "id": "RVgrSze6IyJ8"
      },
      "source": [
        "### 4.3 Define function to train model with and without Transition Matrix"
      ]
    },
    {
      "cell_type": "markdown",
      "source": [
        "This function is created to train, evaluate model and predict the labels in test dataset (data without noise). And to predict the true labels with transition matrix, the **forward learning method** is applied.   "
      ],
      "metadata": {
        "id": "YgLHOdEAWRL-"
      }
    },
    {
      "cell_type": "code",
      "execution_count": 30,
      "metadata": {
        "id": "EkGlkny8Ixf5"
      },
      "outputs": [],
      "source": [
        "def train_and_eval_model(n_epochs, model, data_train_loader, data_val_loader, data_test_loader, T_matrix, optimizer, loss_function, optim_config, run_with_Tmatrix = False):\n",
        "    \"\"\"\n",
        "    Training a pytorch cnn model\n",
        "    Input:\n",
        "    - n_epochs: number of epochs to train cnn model\n",
        "    - model: cnn model \n",
        "    - data_train_loader: training data created to train cnn model\n",
        "    - data_val_loader: validation data created to test performance of cnn model\n",
        "    - data_test_loader: test dataset (without noise)\n",
        "    - T_matrix: estimated transition matrix\n",
        "    - optimizer: optimization function\n",
        "    - loss_function: loss function \n",
        "    - optim_config: optimal configuration selected to train cnn model\n",
        "    - run_with_Tmatrix: False (default value), True: when running with transition matrix\n",
        "    Ouput:\n",
        "    - model: trained model after a number of epochs \n",
        "    - best_top1_acc: best top-1 accuracy \n",
        "    - model_test_accuracy: the accuracy of trained model on with test dataset (data without noise)\n",
        "    \"\"\"\n",
        "\n",
        "    val_acc_hist = []\n",
        "    best_top1_acc = 0\n",
        "    best_model_weights = deepcopy(model.state_dict())\n",
        "\n",
        "    for epoch in range(n_epochs):\n",
        "        # top1_acc_meter = AverageMeter()\n",
        "        # loss_meter = AverageMeter()\n",
        "\n",
        "        print(\"-----\")\n",
        "\n",
        "        for stage in [\"train\", \"eval\"]:\n",
        "\n",
        "            if stage == \"train\":\n",
        "\n",
        "                model_loss = 0.0\n",
        "                correct_prediction = 0\n",
        "                total = 0\n",
        "\n",
        "                # Set model to train mode\n",
        "                model.to(device)\n",
        "                model.train()\n",
        "    \n",
        "                for i, (input_data, label_data) in enumerate(data_train_loader):\n",
        "              \n",
        "                    # prepare data input\n",
        "                    input_data = input_data.to(device)\n",
        "                    label_data = label_data.to(device)\n",
        "\n",
        "                    # Set zero to the parameter gradients\n",
        "                    optimizer.zero_grad()\n",
        "              \n",
        "                    # predict labels\n",
        "                    output = model(input_data)\n",
        "\n",
        "                    # # forward\n",
        "                    # loss = loss_function(output, label_data)\n",
        "              \n",
        "                    # Prediction with transition matrix (forward learning)\n",
        "                    if run_with_Tmatrix:\n",
        "\n",
        "                        prob = F.softmax(output, dim=1)\n",
        "                        output = torch.matmul(T_matrix.to(device), prob.t())\n",
        "                        output = output.t()\n",
        "                        _, predicted_label = torch.max(output, 1)\n",
        "\n",
        "                    # Prediction without transition matrix\n",
        "                    else:\n",
        "                        output = output\n",
        "                        _, predicted_label = torch.max(output, 1)\n",
        "\n",
        "                    # forward\n",
        "                    loss = loss_function(output, label_data)\n",
        "\n",
        "                    # backward\n",
        "                    loss.backward()\n",
        "\n",
        "                    # update all gradients\n",
        "                    optimizer.step()\n",
        "              \n",
        "                    total += label_data.size(0)\n",
        "                    model_loss += loss.item() * input_data.size(0)\n",
        "\n",
        "                    correct_prediction += torch.sum(predicted_label == label_data.data)\n",
        "\n",
        "                # calculate loss and accuracy\n",
        "                epoch_loss = model_loss / len(data_train_loader.dataset)\n",
        "                epoch_acc = correct_prediction / total\n",
        "    \n",
        "                # record accuary and cross entropy losss\n",
        "                if epoch % 2 == 0:\n",
        "                    print(\"Train epoch is: {} and Model Loss and Accuracy are: {} and {}%\".format(epoch + 1, round(epoch_loss, 3), torch.round(100 * epoch_acc)))\n",
        "\n",
        "            else:          \n",
        "                # Perform model validation\n",
        "                top1_acc_avg = evaluation_function(epoch = epoch, model = model, loss_function = loss_function, val_loader = data_val_loader)\n",
        "                if epoch % 2 == 0:\n",
        "                    print(\"Model validation: Top-1 Accuracy is: {}%\".format(round(top1_acc_avg, 2)))\n",
        "\n",
        "            # save the best model\n",
        "            if stage == \"eval\" and (top1_acc_avg > best_top1_acc):\n",
        "                state = OrderedDict([\n",
        "                    ('config', optim_config),\n",
        "                    ('state_dict', model.state_dict()),\n",
        "                    ('optimizer', optimizer.state_dict()),\n",
        "                    ('epoch', epoch),\n",
        "                    ('top1-accuracy', top1_acc_avg),\n",
        "                ])\n",
        "                best_model_path = os.path.join(trained_model_dir, 'best_model.pth')\n",
        "                torch.save(state, best_model_path)\n",
        "                best_top1_acc = top1_acc_avg\n",
        "                best_model_weights = deepcopy(model.state_dict())\n",
        "\n",
        "    # Load the best model      \n",
        "    model.load_state_dict(best_model_weights)\n",
        "\n",
        "    # Evaluatate the model with test dataset\n",
        "    model_test_accuracy = evaluation_function(epoch = n_epochs, \n",
        "                                              model = model, \n",
        "                                              loss_function = loss_function, \n",
        "                                              val_loader = data_test_loader\n",
        "                                              )\n",
        "    print('Accuracy of test dataset is: {:2f}%'.format(round(model_test_accuracy, 2)))\n",
        "\n",
        "    return model, best_top1_acc, model_test_accuracy"
      ]
    },
    {
      "cell_type": "markdown",
      "metadata": {
        "id": "BXbCg7Cp9-Ul"
      },
      "source": [
        "#5.Classifier 1"
      ]
    },
    {
      "cell_type": "markdown",
      "metadata": {
        "id": "w6uzZqapzg8o"
      },
      "source": [
        "### 5.1 Model architecture"
      ]
    },
    {
      "cell_type": "code",
      "execution_count": 31,
      "metadata": {
        "id": "aK104nMQufEP"
      },
      "outputs": [],
      "source": [
        "# Define a CNN class.\n",
        "class Classifier1(nn.Module):\n",
        "\n",
        "    def __init__(self, n_classes = 3, n_filters = 20, in_channels = 1):\n",
        "        super(Classifier1, self).__init__()\n",
        "        self.conv1 = nn.Conv2d(in_channels, 10, kernel_size = 5, stride = 1)\n",
        "        self.bn1 = nn.BatchNorm2d(10)\n",
        "        self.relu = nn.ReLU()\n",
        "\n",
        "        self.conv2 = nn.Conv2d(10, 30, kernel_size = 5, stride = 1)\n",
        "        self.bn2 = nn.BatchNorm2d(30)\n",
        "        self.relu = nn.ReLU()\n",
        "\n",
        "        self.FC_input_layer = nn.Linear(30*n_filters*n_filters, 500)\n",
        "\n",
        "        self.drop = nn.Dropout(0.25)\n",
        "        \n",
        "        self.FC_hidden_layer1 = nn.Linear(500, 200)\n",
        "        self.FC_hidden_layer2 = nn.Linear(200, 100)\n",
        "\n",
        "        self.FC_output_layer = nn.Linear(100, n_classes)\n",
        "\n",
        "    def forward(self, output):\n",
        "        \"\"\"The structure of CNN model is as follows:\n",
        "        conv1->bn1->relu->cov2->bn2->relu->\n",
        "        input_layer->relu->dropout->hidden_layer1->relu->hidden_layer2->relu->output_layer\n",
        "        \"\"\"\n",
        "\n",
        "        output = self.conv1(output)\n",
        "        output = self.bn1(output)\n",
        "        output = F.relu(output)\n",
        "\n",
        "        output = self.conv2(output)\n",
        "        output = self.bn2(output)\n",
        "        output = F.relu(output)\n",
        "\n",
        "        output = output.view(output.size(0), -1)\n",
        "        output = F.relu(self.FC_input_layer(output))\n",
        "\n",
        "        output = self.drop(output)\n",
        "\n",
        "        output = F.relu(self.FC_hidden_layer1(output))\n",
        "        output = F.relu(self.FC_hidden_layer2(output))\n",
        "\n",
        "        output = self.FC_output_layer(output)\n",
        "\n",
        "        return output     "
      ]
    },
    {
      "cell_type": "markdown",
      "metadata": {
        "id": "xuP_LLl8znHG"
      },
      "source": [
        "### 5.2 Initialise and Define Configuration"
      ]
    },
    {
      "cell_type": "code",
      "execution_count": 32,
      "metadata": {
        "id": "3uvFD1isv5r9"
      },
      "outputs": [],
      "source": [
        "classifier1_model = Classifier1().to(device)\n",
        "\n",
        "# Define optimal config:\n",
        "optim_config = OrderedDict([\n",
        "    ('epochs', 10),\n",
        "    ('batch_size', 128),\n",
        "    ('lr', 0.01),\n",
        "    ('weight_decay', 1e-5),\n",
        "    ('momentum', 0.9),\n",
        "    ('lr_decay', 0.1)\n",
        "])\n",
        "\n",
        "# Define criterion and optimizer\n",
        "loss_function_classifier1 = nn.CrossEntropyLoss()\n",
        "optimizer_classifier1 = torch.optim.SGD(params = classifier1_model.parameters(),\n",
        "                                        lr = optim_config['lr'], \n",
        "                                        momentum = optim_config['momentum'],\n",
        "                                        weight_decay = optim_config['weight_decay'])\n",
        "\n",
        "train_loader, val_loader, test_loader = data_loader_function(train_val_data = fashion_mnist05_Xtr_val, \n",
        "                                                             train_val_label = fashion_mnist05_Ytr_val, \n",
        "                                                             test_data = fashion_mnist05_data_Xts, \n",
        "                                                             test_label = fashion_mnist05_data_Yts,\n",
        "                                                             batch_size = optim_config['batch_size'])"
      ]
    },
    {
      "cell_type": "markdown",
      "metadata": {
        "id": "EJ29PEQq2bep"
      },
      "source": [
        "### 5.3 Experiment: Train without Transition Matrix [FashionMNIST05]"
      ]
    },
    {
      "cell_type": "code",
      "execution_count": 33,
      "metadata": {
        "id": "hVulLAsO7ivS",
        "colab": {
          "base_uri": "https://localhost:8080/"
        },
        "outputId": "181f19db-4f97-45de-fb8e-37f46c8c8316"
      },
      "outputs": [
        {
          "output_type": "stream",
          "name": "stdout",
          "text": [
            "-----\n",
            "Train epoch is: 1 and Model Loss and Accuracy are: 1.061 and 46.0%\n",
            "Model validation: Top-1 Accuracy is: 46.83%\n",
            "-----\n",
            "-----\n",
            "Train epoch is: 3 and Model Loss and Accuracy are: 1.042 and 48.0%\n",
            "Model validation: Top-1 Accuracy is: 49.14%\n",
            "-----\n",
            "-----\n",
            "Train epoch is: 5 and Model Loss and Accuracy are: 1.028 and 50.0%\n",
            "Model validation: Top-1 Accuracy is: 48.89%\n",
            "-----\n",
            "-----\n",
            "Train epoch is: 7 and Model Loss and Accuracy are: 1.006 and 51.0%\n",
            "Model validation: Top-1 Accuracy is: 47.08%\n",
            "-----\n",
            "-----\n",
            "Train epoch is: 9 and Model Loss and Accuracy are: 0.973 and 53.0%\n",
            "Model validation: Top-1 Accuracy is: 46.56%\n",
            "-----\n",
            "Accuracy of test dataset is: 93.230000%\n"
          ]
        }
      ],
      "source": [
        "seed_torch()\n",
        "\n",
        "# Transition matrix is not used\n",
        "classifier1_cnn_model_without_TM, _, model_test_accuracy_without_TM = train_and_eval_model(n_epochs = optim_config['epochs'], \n",
        "                                    model = classifier1_model, \n",
        "                                    data_train_loader = train_loader,\n",
        "                                    data_val_loader = val_loader,\n",
        "                                    data_test_loader = test_loader,\n",
        "                                    T_matrix = transition_matrices['fashionmnist0.5'],\n",
        "                                    optimizer = optimizer_classifier1, \n",
        "                                    loss_function = loss_function_classifier1,\n",
        "                                    optim_config = optim_config,\n",
        "                                    run_with_Tmatrix = False)"
      ]
    },
    {
      "cell_type": "markdown",
      "metadata": {
        "id": "8P5TovzM6XCj"
      },
      "source": [
        "###5.4 Experiment: Train with Transition Matrix [FashionMNIST05]"
      ]
    },
    {
      "cell_type": "code",
      "execution_count": 34,
      "metadata": {
        "id": "yL4I-Vgc7nAx",
        "colab": {
          "base_uri": "https://localhost:8080/"
        },
        "outputId": "6d30d4dd-e591-4013-c779-8e3393c4d453"
      },
      "outputs": [
        {
          "output_type": "stream",
          "name": "stdout",
          "text": [
            "-----\n",
            "Train epoch is: 1 and Model Loss and Accuracy are: 1.083 and 46.0%\n",
            "Model validation: Top-1 Accuracy is: 48.72%\n",
            "-----\n",
            "-----\n",
            "Train epoch is: 3 and Model Loss and Accuracy are: 1.065 and 49.0%\n",
            "Model validation: Top-1 Accuracy is: 49.28%\n",
            "-----\n",
            "-----\n",
            "Train epoch is: 5 and Model Loss and Accuracy are: 1.064 and 49.0%\n",
            "Model validation: Top-1 Accuracy is: 49.28%\n",
            "-----\n",
            "-----\n",
            "Train epoch is: 7 and Model Loss and Accuracy are: 1.063 and 49.0%\n",
            "Model validation: Top-1 Accuracy is: 49.31%\n",
            "-----\n",
            "-----\n",
            "Train epoch is: 9 and Model Loss and Accuracy are: 1.062 and 50.0%\n",
            "Model validation: Top-1 Accuracy is: 49.17%\n",
            "-----\n",
            "Accuracy of test dataset is: 94.030000%\n"
          ]
        }
      ],
      "source": [
        "seed_torch()\n",
        "\n",
        "# Transition matrix is used\n",
        "classifier1_cnn_model_with_TM, _, model_test_accuracy_with_TM = train_and_eval_model(n_epochs = optim_config['epochs'], \n",
        "                                    model = classifier1_model, \n",
        "                                    data_train_loader = train_loader,\n",
        "                                    data_val_loader = val_loader,\n",
        "                                    data_test_loader = test_loader,\n",
        "                                    T_matrix = transition_matrices['fashionmnist0.5'],\n",
        "                                    optimizer = optimizer_classifier1, \n",
        "                                    loss_function = loss_function_classifier1,\n",
        "                                    optim_config = optim_config,\n",
        "                                    run_with_Tmatrix = True)"
      ]
    },
    {
      "cell_type": "markdown",
      "metadata": {
        "id": "sbvlqF3H2y42"
      },
      "source": [
        "### 5.5 Performance Evaluation"
      ]
    },
    {
      "cell_type": "code",
      "execution_count": 35,
      "metadata": {
        "id": "-I0WMFg62zJm"
      },
      "outputs": [],
      "source": [
        "dataset_list = {\"cifar\": [cifar_data_Xtr_val, cifar_data_Ytr_val, cifar_data_Xts, cifar_data_Yts],\n",
        "            \"fashionmnist0.5\": [fashion_mnist05_Xtr_val, fashion_mnist05_Ytr_val, fashion_mnist05_data_Xts, fashion_mnist05_data_Yts],\n",
        "            \"fashionmnist0.6\": [fashion_mnist06_Xtr_val, fashion_mnist06_Ytr_val, fashion_mnist06_data_Xts, fashion_mnist06_data_Yts]}"
      ]
    },
    {
      "cell_type": "code",
      "execution_count": 36,
      "metadata": {
        "id": "dnoHSEaS5Fz_"
      },
      "outputs": [],
      "source": [
        "# Set the number of times to run the model\n",
        "n_iters = 10\n",
        "\n",
        "# Create a dictionary to store list of all experimental results\n",
        "model1_test_acc_dict = {\n",
        "                        \"cifar\": [list(), list()], #1st list is for accuracy without transition matrix, 2nd for accuracy with transition matrix\n",
        "                        \"fashionmnist0.5\": [list(), list()],\n",
        "                        \"fashionmnist0.6\": [list(), list()]\n",
        "                        }\n",
        "\n",
        "# Define optimal config:\n",
        "optim_config_classifier1 = OrderedDict([\n",
        "    ('epochs', 15),\n",
        "    ('batch_size', 128),\n",
        "    ('lr', 0.01),\n",
        "    ('weight_decay', 1e-5),\n",
        "    ('momentum', 0.9),\n",
        "    ('lr_decay', 0.1)\n",
        "])"
      ]
    },
    {
      "cell_type": "markdown",
      "source": [
        "#### 5.5.1 CIFAR"
      ],
      "metadata": {
        "id": "nysF8WAFrw2_"
      }
    },
    {
      "cell_type": "markdown",
      "source": [
        "##### Without Transition Matrix"
      ],
      "metadata": {
        "id": "NJF0wL4jlwQS"
      }
    },
    {
      "cell_type": "code",
      "source": [
        "dataset = \"cifar\"\n",
        "\n",
        "print(\"-\"*10)\n",
        "print(\"Experiments for dataset: {}\".format(dataset))\n",
        "print(\"\\nTransition Matrix: \\n{}\".format(transition_matrices[dataset]))\n",
        "print(\"\\n\")\n",
        "\n",
        "# Obtain the corresponding dataset\n",
        "X_train_val = dataset_list[dataset][0]\n",
        "Y_train_val = dataset_list[dataset][1]\n",
        "X_test = dataset_list[dataset][2]\n",
        "Y_test = dataset_list[dataset][3]\n",
        "\n",
        "# Detect if GPU or CPU\n",
        "device = torch.device(\"cuda:0\" if torch.cuda.is_available() else \"cpu\")\n",
        "\n",
        "# Set up setting for experiments\n",
        "if dataset.lower() == 'cifar':\n",
        "    in_channels = 3\n",
        "    n_filters = 24\n",
        "else:\n",
        "    in_channels = 1\n",
        "    n_filters = 20\n",
        "\n",
        "for n_iter in range(n_iters):\n",
        "  print(\"The training iteration: {}\".format(n_iter + 1))    \n",
        "\n",
        "  with torch.no_grad():\n",
        "      torch.cuda.empty_cache()\n",
        "\n",
        "  # Load dataset:\n",
        "  train_loader, val_loader, test_loader = data_loader_for_evaluation_function(train_val_data = X_train_val, \n",
        "                                                                              train_val_label = Y_train_val, \n",
        "                                                                              test_data = X_test, \n",
        "                                                                              test_label = Y_test,\n",
        "                                                                              batch_size = optim_config_classifier1[\"batch_size\"])\n",
        "  \n",
        "  # Initiate the model\n",
        "  cnn_model = Classifier1(in_channels = in_channels, n_filters = n_filters).to(device)\n",
        "\n",
        "  # Define criterion and optimizer\n",
        "  loss_function_classifier1 = nn.CrossEntropyLoss()\n",
        "  optimizer_classifier1 = torch.optim.SGD(params = cnn_model.parameters(),\n",
        "                                        lr = optim_config_classifier1['lr'], \n",
        "                                        momentum = optim_config_classifier1['momentum'],\n",
        "                                        weight_decay = optim_config_classifier1['weight_decay'])\n",
        "\n",
        "  # Define criterion and optimizer\n",
        "  loss_function_classifier1 = nn.CrossEntropyLoss()\n",
        "  optimizer_classifier1 = torch.optim.SGD(params = cnn_model.parameters(),\n",
        "                                        lr = optim_config_classifier1['lr'], \n",
        "                                        momentum = optim_config_classifier1['momentum'],\n",
        "                                        weight_decay = optim_config_classifier1['weight_decay'])\n",
        "\n",
        "  print(\"The training iteration: {} - Without Transition Matrix\".format(n_iter + 1)) \n",
        "  print(\"\\n\")\n",
        "  # Train and evaluate model without Transition Matrix\n",
        "  trained_model1_without_TM, _, model1_test_accuracy_without_TM = train_and_eval_model(n_epochs = optim_config_classifier1['epochs'], \n",
        "                                                                          model = cnn_model, \n",
        "                                                                          data_train_loader = train_loader,\n",
        "                                                                          data_val_loader = val_loader,\n",
        "                                                                          data_test_loader = test_loader,\n",
        "                                                                          T_matrix = transition_matrices[dataset],\n",
        "                                                                          optimizer = optimizer_classifier1, \n",
        "                                                                          loss_function = loss_function_classifier1,\n",
        "                                                                          optim_config = optim_config_classifier1,\n",
        "                                                                          run_with_Tmatrix = False)\n",
        "  \n",
        "  model1_test_acc_dict[dataset][0].append(model1_test_accuracy_without_TM)\n",
        "\n",
        "print(\"Before Transition Matrix: The mean of test accuracy is {:2f}%\".format(round(np.mean(model1_test_acc_dict[dataset][0][1:10]))))\n",
        "print(\"Before Transition Matrix: The standard deviation of test accuracy is {:2f}\".format(round(np.std(model1_test_acc_dict[dataset][0][1:10]))))"
      ],
      "metadata": {
        "id": "67-XE-aarxBT",
        "colab": {
          "base_uri": "https://localhost:8080/"
        },
        "outputId": "17d9c896-e4d2-4396-bafb-ae58305d031a"
      },
      "execution_count": null,
      "outputs": [
        {
          "output_type": "stream",
          "name": "stdout",
          "text": [
            "----------\n",
            "Experiments for dataset: cifar\n",
            "\n",
            "Transition Matrix: \n",
            "tensor([[0.4009, 0.2170, 0.3820],\n",
            "        [0.3458, 0.3149, 0.3393],\n",
            "        [0.3516, 0.2323, 0.4161]])\n",
            "\n",
            "\n",
            "The training iteration: 1\n",
            "The training iteration: 1 - Without Transition Matrix\n",
            "\n",
            "\n",
            "-----\n",
            "Train epoch is: 1 and Model Loss and Accuracy are: 1.097 and 36.0%\n",
            "Model validation: Top-1 Accuracy is: 35.7%\n",
            "-----\n",
            "-----\n",
            "Train epoch is: 3 and Model Loss and Accuracy are: 1.083 and 39.0%\n",
            "Model validation: Top-1 Accuracy is: 36.67%\n",
            "-----\n",
            "-----\n",
            "Train epoch is: 5 and Model Loss and Accuracy are: 1.057 and 44.0%\n",
            "Model validation: Top-1 Accuracy is: 34.47%\n",
            "-----\n",
            "-----\n",
            "Train epoch is: 7 and Model Loss and Accuracy are: 1.01 and 49.0%\n",
            "Model validation: Top-1 Accuracy is: 34.17%\n",
            "-----\n",
            "-----\n",
            "Train epoch is: 9 and Model Loss and Accuracy are: 0.909 and 57.0%\n",
            "Model validation: Top-1 Accuracy is: 35.47%\n",
            "-----\n",
            "-----\n",
            "Train epoch is: 11 and Model Loss and Accuracy are: 0.765 and 66.0%\n",
            "Model validation: Top-1 Accuracy is: 34.87%\n",
            "-----\n",
            "-----\n",
            "Train epoch is: 13 and Model Loss and Accuracy are: 0.528 and 78.0%\n",
            "Model validation: Top-1 Accuracy is: 35.17%\n",
            "-----\n",
            "-----\n",
            "Train epoch is: 15 and Model Loss and Accuracy are: 0.278 and 90.0%\n",
            "Model validation: Top-1 Accuracy is: 34.23%\n",
            "Accuracy of test dataset is: 53.270000%\n",
            "The training iteration: 2\n",
            "The training iteration: 2 - Without Transition Matrix\n",
            "\n",
            "\n",
            "-----\n",
            "Train epoch is: 1 and Model Loss and Accuracy are: 1.097 and 35.0%\n",
            "Model validation: Top-1 Accuracy is: 36.63%\n",
            "-----\n",
            "-----\n",
            "Train epoch is: 3 and Model Loss and Accuracy are: 1.087 and 38.0%\n",
            "Model validation: Top-1 Accuracy is: 34.1%\n",
            "-----\n",
            "-----\n",
            "Train epoch is: 5 and Model Loss and Accuracy are: 1.067 and 42.0%\n",
            "Model validation: Top-1 Accuracy is: 35.87%\n",
            "-----\n",
            "-----\n",
            "Train epoch is: 7 and Model Loss and Accuracy are: 1.034 and 46.0%\n",
            "Model validation: Top-1 Accuracy is: 35.73%\n",
            "-----\n",
            "-----\n",
            "Train epoch is: 9 and Model Loss and Accuracy are: 0.954 and 54.0%\n",
            "Model validation: Top-1 Accuracy is: 32.6%\n",
            "-----\n",
            "-----\n",
            "Train epoch is: 11 and Model Loss and Accuracy are: 0.843 and 61.0%\n",
            "Model validation: Top-1 Accuracy is: 35.8%\n",
            "-----\n"
          ]
        }
      ]
    },
    {
      "cell_type": "markdown",
      "source": [
        "##### With Transition Matrix"
      ],
      "metadata": {
        "id": "cJd0H1N6lyLB"
      }
    },
    {
      "cell_type": "code",
      "source": [
        "dataset = \"cifar\"\n",
        "\n",
        "print(\"-\"*10)\n",
        "print(\"Experiments for dataset: {}\".format(dataset))\n",
        "print(\"\\nTransition Matrix: \\n{}\".format(transition_matrices[dataset]))\n",
        "\n",
        "# Obtain the corresponding dataset\n",
        "X_train_val = dataset_list[dataset][0]\n",
        "Y_train_val = dataset_list[dataset][1]\n",
        "X_test = dataset_list[dataset][2]\n",
        "Y_test = dataset_list[dataset][3]\n",
        "\n",
        "# Detect if GPU or CPU\n",
        "device = torch.device(\"cuda:0\" if torch.cuda.is_available() else \"cpu\")\n",
        "\n",
        "# Set up setting for experiments\n",
        "if dataset.lower() == 'cifar':\n",
        "    in_channels = 3\n",
        "    n_filters = 24\n",
        "else:\n",
        "    in_channels = 1\n",
        "    n_filters = 20\n",
        "\n",
        "for n_iter in range(n_iters):\n",
        "  print(\"The training iteration: {}\".format(n_iter + 1))    \n",
        "\n",
        "  with torch.no_grad():\n",
        "      torch.cuda.empty_cache()\n",
        "\n",
        "  # Load dataset:\n",
        "  train_loader, val_loader, test_loader = data_loader_for_evaluation_function(train_val_data = X_train_val, \n",
        "                                                                              train_val_label = Y_train_val, \n",
        "                                                                              test_data = X_test, \n",
        "                                                                              test_label = Y_test,\n",
        "                                                                              batch_size = optim_config_classifier1[\"batch_size\"])\n",
        "  \n",
        "  # Initiate the model\n",
        "  cnn_model = Classifier1(in_channels = in_channels, n_filters = n_filters).to(device)\n",
        "\n",
        "  # Define criterion and optimizer\n",
        "  loss_function_classifier1 = nn.CrossEntropyLoss()\n",
        "  optimizer_classifier1 = torch.optim.SGD(params = cnn_model.parameters(),\n",
        "                                        lr = optim_config_classifier1['lr'], \n",
        "                                        momentum = optim_config_classifier1['momentum'],\n",
        "                                        weight_decay = optim_config_classifier1['weight_decay'])\n",
        "\n",
        "  print(\"The training iteration: {} - With Transition Matrix\".format(n_iter + 1)) \n",
        "  \n",
        "  # Train and evaluate model with Transition Matrix\n",
        "  trained_model1_with_TM, _, model1_test_accuracy_with_TM = train_and_eval_model(n_epochs = optim_config_classifier1['epochs'], \n",
        "                                                                                model = cnn_model, \n",
        "                                                                                data_train_loader = train_loader,\n",
        "                                                                                data_val_loader = val_loader,\n",
        "                                                                                data_test_loader = test_loader,\n",
        "                                                                                T_matrix = transition_matrices[dataset],\n",
        "                                                                                optimizer = optimizer_classifier1, \n",
        "                                                                                loss_function = loss_function_classifier1,\n",
        "                                                                                optim_config = optim_config_classifier1,\n",
        "                                                                                run_with_Tmatrix = True)\n",
        "  \n",
        "  model1_test_acc_dict[dataset][1].append(model1_test_accuracy_with_TM)\n",
        "\n",
        "print(\"\\nAfter Transition Matrix: The mean of test accuracy is {:2f}%\".format(round(np.mean(model1_test_acc_dict[dataset][1][1:10]))))\n",
        "print(\"After Transition Matrix: The standard deviation of test accuracy is {:2f}\".format(round(np.std(model1_test_acc_dict[dataset][1][1:10]))))"
      ],
      "metadata": {
        "id": "m5t1IXNEsVvU",
        "colab": {
          "base_uri": "https://localhost:8080/"
        },
        "outputId": "4541dc61-3cd1-4a85-fb09-3044919ebb43"
      },
      "execution_count": 38,
      "outputs": [
        {
          "output_type": "stream",
          "name": "stdout",
          "text": [
            "----------\n",
            "Experiments for dataset: cifar\n",
            "\n",
            "Transition Matrix: \n",
            "tensor([[0.4009, 0.2170, 0.3820],\n",
            "        [0.3458, 0.3149, 0.3393],\n",
            "        [0.3516, 0.2323, 0.4161]])\n",
            "The training iteration: 1\n",
            "The training iteration: 1 - With Transition Matrix\n",
            "-----\n",
            "Train epoch is: 1 and Model Loss and Accuracy are: 1.099 and 34.0%\n",
            "Model validation: Top-1 Accuracy is: 34.2%\n",
            "-----\n",
            "-----\n",
            "Train epoch is: 3 and Model Loss and Accuracy are: 1.099 and 35.0%\n",
            "Model validation: Top-1 Accuracy is: 34.8%\n",
            "-----\n",
            "-----\n",
            "Train epoch is: 5 and Model Loss and Accuracy are: 1.099 and 36.0%\n",
            "Model validation: Top-1 Accuracy is: 34.87%\n",
            "-----\n",
            "-----\n",
            "Train epoch is: 7 and Model Loss and Accuracy are: 1.098 and 37.0%\n",
            "Model validation: Top-1 Accuracy is: 35.13%\n",
            "-----\n",
            "-----\n",
            "Train epoch is: 9 and Model Loss and Accuracy are: 1.098 and 36.0%\n",
            "Model validation: Top-1 Accuracy is: 35.4%\n",
            "-----\n",
            "-----\n",
            "Train epoch is: 11 and Model Loss and Accuracy are: 1.098 and 36.0%\n",
            "Model validation: Top-1 Accuracy is: 35.5%\n",
            "-----\n",
            "-----\n",
            "Train epoch is: 13 and Model Loss and Accuracy are: 1.098 and 36.0%\n",
            "Model validation: Top-1 Accuracy is: 35.33%\n",
            "-----\n",
            "-----\n",
            "Train epoch is: 15 and Model Loss and Accuracy are: 1.098 and 36.0%\n",
            "Model validation: Top-1 Accuracy is: 35.27%\n",
            "Accuracy of test dataset is: 44.970000%\n",
            "The training iteration: 2\n",
            "The training iteration: 2 - With Transition Matrix\n",
            "-----\n",
            "Train epoch is: 1 and Model Loss and Accuracy are: 1.099 and 34.0%\n",
            "Model validation: Top-1 Accuracy is: 33.1%\n",
            "-----\n",
            "-----\n",
            "Train epoch is: 3 and Model Loss and Accuracy are: 1.099 and 35.0%\n",
            "Model validation: Top-1 Accuracy is: 33.2%\n",
            "-----\n",
            "-----\n",
            "Train epoch is: 5 and Model Loss and Accuracy are: 1.099 and 36.0%\n",
            "Model validation: Top-1 Accuracy is: 34.0%\n",
            "-----\n",
            "-----\n",
            "Train epoch is: 7 and Model Loss and Accuracy are: 1.098 and 36.0%\n",
            "Model validation: Top-1 Accuracy is: 32.6%\n",
            "-----\n",
            "-----\n",
            "Train epoch is: 9 and Model Loss and Accuracy are: 1.098 and 36.0%\n",
            "Model validation: Top-1 Accuracy is: 34.23%\n",
            "-----\n",
            "-----\n",
            "Train epoch is: 11 and Model Loss and Accuracy are: 1.098 and 36.0%\n",
            "Model validation: Top-1 Accuracy is: 35.33%\n",
            "-----\n",
            "-----\n",
            "Train epoch is: 13 and Model Loss and Accuracy are: 1.098 and 36.0%\n",
            "Model validation: Top-1 Accuracy is: 35.67%\n",
            "-----\n",
            "-----\n",
            "Train epoch is: 15 and Model Loss and Accuracy are: 1.098 and 36.0%\n",
            "Model validation: Top-1 Accuracy is: 35.83%\n",
            "Accuracy of test dataset is: 50.630000%\n",
            "The training iteration: 3\n",
            "The training iteration: 3 - With Transition Matrix\n",
            "-----\n",
            "Train epoch is: 1 and Model Loss and Accuracy are: 1.099 and 33.0%\n",
            "Model validation: Top-1 Accuracy is: 34.1%\n",
            "-----\n",
            "-----\n",
            "Train epoch is: 3 and Model Loss and Accuracy are: 1.099 and 35.0%\n",
            "Model validation: Top-1 Accuracy is: 34.23%\n",
            "-----\n",
            "-----\n",
            "Train epoch is: 5 and Model Loss and Accuracy are: 1.099 and 35.0%\n",
            "Model validation: Top-1 Accuracy is: 34.83%\n",
            "-----\n",
            "-----\n",
            "Train epoch is: 7 and Model Loss and Accuracy are: 1.098 and 36.0%\n",
            "Model validation: Top-1 Accuracy is: 34.37%\n",
            "-----\n",
            "-----\n",
            "Train epoch is: 9 and Model Loss and Accuracy are: 1.098 and 36.0%\n",
            "Model validation: Top-1 Accuracy is: 34.43%\n",
            "-----\n",
            "-----\n",
            "Train epoch is: 11 and Model Loss and Accuracy are: 1.098 and 36.0%\n",
            "Model validation: Top-1 Accuracy is: 33.8%\n",
            "-----\n",
            "-----\n",
            "Train epoch is: 13 and Model Loss and Accuracy are: 1.098 and 36.0%\n",
            "Model validation: Top-1 Accuracy is: 33.73%\n",
            "-----\n",
            "-----\n",
            "Train epoch is: 15 and Model Loss and Accuracy are: 1.098 and 36.0%\n",
            "Model validation: Top-1 Accuracy is: 34.03%\n",
            "Accuracy of test dataset is: 42.730000%\n",
            "The training iteration: 4\n",
            "The training iteration: 4 - With Transition Matrix\n",
            "-----\n",
            "Train epoch is: 1 and Model Loss and Accuracy are: 1.099 and 34.0%\n",
            "Model validation: Top-1 Accuracy is: 34.0%\n",
            "-----\n",
            "-----\n",
            "Train epoch is: 3 and Model Loss and Accuracy are: 1.099 and 35.0%\n",
            "Model validation: Top-1 Accuracy is: 34.0%\n",
            "-----\n",
            "-----\n",
            "Train epoch is: 5 and Model Loss and Accuracy are: 1.099 and 36.0%\n",
            "Model validation: Top-1 Accuracy is: 34.07%\n",
            "-----\n",
            "-----\n",
            "Train epoch is: 7 and Model Loss and Accuracy are: 1.098 and 36.0%\n",
            "Model validation: Top-1 Accuracy is: 33.47%\n",
            "-----\n",
            "-----\n",
            "Train epoch is: 9 and Model Loss and Accuracy are: 1.098 and 36.0%\n",
            "Model validation: Top-1 Accuracy is: 34.13%\n",
            "-----\n",
            "-----\n",
            "Train epoch is: 11 and Model Loss and Accuracy are: 1.098 and 36.0%\n",
            "Model validation: Top-1 Accuracy is: 35.03%\n",
            "-----\n",
            "-----\n",
            "Train epoch is: 13 and Model Loss and Accuracy are: 1.098 and 36.0%\n",
            "Model validation: Top-1 Accuracy is: 35.3%\n",
            "-----\n",
            "-----\n",
            "Train epoch is: 15 and Model Loss and Accuracy are: 1.098 and 36.0%\n",
            "Model validation: Top-1 Accuracy is: 35.33%\n",
            "Accuracy of test dataset is: 43.530000%\n",
            "The training iteration: 5\n",
            "The training iteration: 5 - With Transition Matrix\n",
            "-----\n",
            "Train epoch is: 1 and Model Loss and Accuracy are: 1.099 and 34.0%\n",
            "Model validation: Top-1 Accuracy is: 34.23%\n",
            "-----\n",
            "-----\n",
            "Train epoch is: 3 and Model Loss and Accuracy are: 1.099 and 36.0%\n",
            "Model validation: Top-1 Accuracy is: 35.63%\n",
            "-----\n",
            "-----\n",
            "Train epoch is: 5 and Model Loss and Accuracy are: 1.099 and 37.0%\n",
            "Model validation: Top-1 Accuracy is: 36.03%\n",
            "-----\n",
            "-----\n",
            "Train epoch is: 7 and Model Loss and Accuracy are: 1.098 and 37.0%\n",
            "Model validation: Top-1 Accuracy is: 36.0%\n",
            "-----\n",
            "-----\n",
            "Train epoch is: 9 and Model Loss and Accuracy are: 1.098 and 37.0%\n",
            "Model validation: Top-1 Accuracy is: 37.4%\n",
            "-----\n",
            "-----\n",
            "Train epoch is: 11 and Model Loss and Accuracy are: 1.098 and 37.0%\n",
            "Model validation: Top-1 Accuracy is: 37.2%\n",
            "-----\n",
            "-----\n",
            "Train epoch is: 13 and Model Loss and Accuracy are: 1.098 and 37.0%\n",
            "Model validation: Top-1 Accuracy is: 37.23%\n",
            "-----\n",
            "-----\n",
            "Train epoch is: 15 and Model Loss and Accuracy are: 1.098 and 37.0%\n",
            "Model validation: Top-1 Accuracy is: 37.0%\n",
            "Accuracy of test dataset is: 51.700000%\n",
            "The training iteration: 6\n",
            "The training iteration: 6 - With Transition Matrix\n",
            "-----\n",
            "Train epoch is: 1 and Model Loss and Accuracy are: 1.099 and 34.0%\n",
            "Model validation: Top-1 Accuracy is: 35.0%\n",
            "-----\n",
            "-----\n",
            "Train epoch is: 3 and Model Loss and Accuracy are: 1.099 and 34.0%\n",
            "Model validation: Top-1 Accuracy is: 36.37%\n",
            "-----\n",
            "-----\n",
            "Train epoch is: 5 and Model Loss and Accuracy are: 1.099 and 36.0%\n",
            "Model validation: Top-1 Accuracy is: 36.87%\n",
            "-----\n",
            "-----\n",
            "Train epoch is: 7 and Model Loss and Accuracy are: 1.099 and 37.0%\n",
            "Model validation: Top-1 Accuracy is: 37.57%\n",
            "-----\n",
            "-----\n",
            "Train epoch is: 9 and Model Loss and Accuracy are: 1.098 and 37.0%\n",
            "Model validation: Top-1 Accuracy is: 35.9%\n",
            "-----\n",
            "-----\n",
            "Train epoch is: 11 and Model Loss and Accuracy are: 1.098 and 36.0%\n",
            "Model validation: Top-1 Accuracy is: 34.53%\n",
            "-----\n",
            "-----\n",
            "Train epoch is: 13 and Model Loss and Accuracy are: 1.098 and 35.0%\n",
            "Model validation: Top-1 Accuracy is: 34.3%\n",
            "-----\n",
            "-----\n",
            "Train epoch is: 15 and Model Loss and Accuracy are: 1.098 and 35.0%\n",
            "Model validation: Top-1 Accuracy is: 33.87%\n",
            "Accuracy of test dataset is: 56.430000%\n",
            "The training iteration: 7\n",
            "The training iteration: 7 - With Transition Matrix\n",
            "-----\n",
            "Train epoch is: 1 and Model Loss and Accuracy are: 1.099 and 33.0%\n",
            "Model validation: Top-1 Accuracy is: 33.8%\n",
            "-----\n",
            "-----\n",
            "Train epoch is: 3 and Model Loss and Accuracy are: 1.099 and 35.0%\n",
            "Model validation: Top-1 Accuracy is: 34.6%\n",
            "-----\n",
            "-----\n",
            "Train epoch is: 5 and Model Loss and Accuracy are: 1.099 and 36.0%\n",
            "Model validation: Top-1 Accuracy is: 36.53%\n",
            "-----\n",
            "-----\n",
            "Train epoch is: 7 and Model Loss and Accuracy are: 1.098 and 36.0%\n",
            "Model validation: Top-1 Accuracy is: 36.6%\n",
            "-----\n",
            "-----\n",
            "Train epoch is: 9 and Model Loss and Accuracy are: 1.098 and 36.0%\n",
            "Model validation: Top-1 Accuracy is: 36.6%\n",
            "-----\n",
            "-----\n",
            "Train epoch is: 11 and Model Loss and Accuracy are: 1.098 and 36.0%\n",
            "Model validation: Top-1 Accuracy is: 36.6%\n",
            "-----\n",
            "-----\n",
            "Train epoch is: 13 and Model Loss and Accuracy are: 1.098 and 36.0%\n",
            "Model validation: Top-1 Accuracy is: 36.87%\n",
            "-----\n",
            "-----\n",
            "Train epoch is: 15 and Model Loss and Accuracy are: 1.098 and 36.0%\n",
            "Model validation: Top-1 Accuracy is: 37.13%\n",
            "Accuracy of test dataset is: 48.130000%\n",
            "The training iteration: 8\n",
            "The training iteration: 8 - With Transition Matrix\n",
            "-----\n",
            "Train epoch is: 1 and Model Loss and Accuracy are: 1.099 and 33.0%\n",
            "Model validation: Top-1 Accuracy is: 33.57%\n",
            "-----\n",
            "-----\n",
            "Train epoch is: 3 and Model Loss and Accuracy are: 1.099 and 34.0%\n",
            "Model validation: Top-1 Accuracy is: 34.5%\n",
            "-----\n",
            "-----\n",
            "Train epoch is: 5 and Model Loss and Accuracy are: 1.099 and 35.0%\n",
            "Model validation: Top-1 Accuracy is: 35.13%\n",
            "-----\n",
            "-----\n",
            "Train epoch is: 7 and Model Loss and Accuracy are: 1.099 and 36.0%\n",
            "Model validation: Top-1 Accuracy is: 35.93%\n",
            "-----\n",
            "-----\n",
            "Train epoch is: 9 and Model Loss and Accuracy are: 1.098 and 36.0%\n",
            "Model validation: Top-1 Accuracy is: 36.03%\n",
            "-----\n",
            "-----\n",
            "Train epoch is: 11 and Model Loss and Accuracy are: 1.098 and 36.0%\n",
            "Model validation: Top-1 Accuracy is: 36.6%\n",
            "-----\n",
            "-----\n",
            "Train epoch is: 13 and Model Loss and Accuracy are: 1.098 and 37.0%\n",
            "Model validation: Top-1 Accuracy is: 36.87%\n",
            "-----\n",
            "-----\n",
            "Train epoch is: 15 and Model Loss and Accuracy are: 1.098 and 37.0%\n",
            "Model validation: Top-1 Accuracy is: 36.7%\n",
            "Accuracy of test dataset is: 57.370000%\n",
            "The training iteration: 9\n",
            "The training iteration: 9 - With Transition Matrix\n",
            "-----\n",
            "Train epoch is: 1 and Model Loss and Accuracy are: 1.099 and 34.0%\n",
            "Model validation: Top-1 Accuracy is: 34.57%\n",
            "-----\n",
            "-----\n",
            "Train epoch is: 3 and Model Loss and Accuracy are: 1.099 and 36.0%\n",
            "Model validation: Top-1 Accuracy is: 35.7%\n",
            "-----\n",
            "-----\n",
            "Train epoch is: 5 and Model Loss and Accuracy are: 1.099 and 37.0%\n",
            "Model validation: Top-1 Accuracy is: 35.67%\n",
            "-----\n",
            "-----\n",
            "Train epoch is: 7 and Model Loss and Accuracy are: 1.099 and 37.0%\n",
            "Model validation: Top-1 Accuracy is: 36.07%\n",
            "-----\n",
            "-----\n",
            "Train epoch is: 9 and Model Loss and Accuracy are: 1.098 and 38.0%\n",
            "Model validation: Top-1 Accuracy is: 36.67%\n",
            "-----\n",
            "-----\n",
            "Train epoch is: 11 and Model Loss and Accuracy are: 1.098 and 37.0%\n",
            "Model validation: Top-1 Accuracy is: 37.17%\n",
            "-----\n",
            "-----\n",
            "Train epoch is: 13 and Model Loss and Accuracy are: 1.098 and 38.0%\n",
            "Model validation: Top-1 Accuracy is: 37.13%\n",
            "-----\n",
            "-----\n",
            "Train epoch is: 15 and Model Loss and Accuracy are: 1.098 and 38.0%\n",
            "Model validation: Top-1 Accuracy is: 37.53%\n",
            "Accuracy of test dataset is: 52.200000%\n",
            "The training iteration: 10\n",
            "The training iteration: 10 - With Transition Matrix\n",
            "-----\n",
            "Train epoch is: 1 and Model Loss and Accuracy are: 1.099 and 33.0%\n",
            "Model validation: Top-1 Accuracy is: 34.43%\n",
            "-----\n",
            "-----\n",
            "Train epoch is: 3 and Model Loss and Accuracy are: 1.099 and 34.0%\n",
            "Model validation: Top-1 Accuracy is: 34.67%\n",
            "-----\n",
            "-----\n",
            "Train epoch is: 5 and Model Loss and Accuracy are: 1.099 and 36.0%\n",
            "Model validation: Top-1 Accuracy is: 35.7%\n",
            "-----\n",
            "-----\n",
            "Train epoch is: 7 and Model Loss and Accuracy are: 1.098 and 37.0%\n",
            "Model validation: Top-1 Accuracy is: 35.2%\n",
            "-----\n",
            "-----\n",
            "Train epoch is: 9 and Model Loss and Accuracy are: 1.098 and 37.0%\n",
            "Model validation: Top-1 Accuracy is: 34.93%\n",
            "-----\n",
            "-----\n",
            "Train epoch is: 11 and Model Loss and Accuracy are: 1.098 and 37.0%\n",
            "Model validation: Top-1 Accuracy is: 34.8%\n",
            "-----\n",
            "-----\n",
            "Train epoch is: 13 and Model Loss and Accuracy are: 1.098 and 37.0%\n",
            "Model validation: Top-1 Accuracy is: 34.63%\n",
            "-----\n",
            "-----\n",
            "Train epoch is: 15 and Model Loss and Accuracy are: 1.098 and 36.0%\n",
            "Model validation: Top-1 Accuracy is: 34.53%\n",
            "Accuracy of test dataset is: 43.470000%\n",
            "\n",
            "After Transition Matrix: The mean of test accuracy is 50.000000%\n",
            "After Transition Matrix: The standard deviation of test accuracy is 5.000000\n"
          ]
        }
      ]
    },
    {
      "cell_type": "markdown",
      "source": [
        "#### 5.5.2 FashionMNIST05"
      ],
      "metadata": {
        "id": "ajXEiB4Pt30E"
      }
    },
    {
      "cell_type": "markdown",
      "source": [
        "##### Without Transition Matrix"
      ],
      "metadata": {
        "id": "vOq4HpRGlRlb"
      }
    },
    {
      "cell_type": "code",
      "source": [
        "dataset = \"fashionmnist0.5\"\n",
        "\n",
        "print(\"-\"*10)\n",
        "print(\"Experiments for dataset: {}\".format(dataset))\n",
        "print(\"\\nTransition Matrix: \\n{}\".format(transition_matrices[dataset]))\n",
        "print(\"\\n\")\n",
        "\n",
        "# Obtain the corresponding dataset\n",
        "X_train_val = dataset_list[dataset][0]\n",
        "Y_train_val = dataset_list[dataset][1]\n",
        "X_test = dataset_list[dataset][2]\n",
        "Y_test = dataset_list[dataset][3]\n",
        "\n",
        "# Detect if GPU or CPU\n",
        "device = torch.device(\"cuda:0\" if torch.cuda.is_available() else \"cpu\")\n",
        "\n",
        "# Set up setting for experiments\n",
        "if dataset.lower() == 'cifar':\n",
        "    in_channels = 3\n",
        "    n_filters = 24\n",
        "else:\n",
        "    in_channels = 1\n",
        "    n_filters = 20\n",
        "\n",
        "for n_iter in range(n_iters):\n",
        "  print(\"The training iteration: {}\".format(n_iter + 1))    \n",
        "\n",
        "  with torch.no_grad():\n",
        "      torch.cuda.empty_cache()\n",
        "\n",
        "  # Load dataset:\n",
        "  train_loader, val_loader, test_loader = data_loader_for_evaluation_function(train_val_data = X_train_val, \n",
        "                                                                              train_val_label = Y_train_val, \n",
        "                                                                              test_data = X_test, \n",
        "                                                                              test_label = Y_test,\n",
        "                                                                              batch_size = optim_config_classifier1[\"batch_size\"])\n",
        "  \n",
        "  # Initiate the model\n",
        "  cnn_model = Classifier1(in_channels = in_channels, n_filters = n_filters).to(device)\n",
        "\n",
        "  # Define criterion and optimizer\n",
        "  loss_function_classifier1 = nn.CrossEntropyLoss()\n",
        "  optimizer_classifier1 = torch.optim.SGD(params = cnn_model.parameters(),\n",
        "                                        lr = optim_config_classifier1['lr'], \n",
        "                                        momentum = optim_config_classifier1['momentum'],\n",
        "                                        weight_decay = optim_config_classifier1['weight_decay'])\n",
        "\n",
        "  print(\"The training iteration: {} - Without Transition Matrix\".format(n_iter + 1)) \n",
        "  print(\"\\n\")\n",
        "  # Train and evaluate model without Transition Matrix\n",
        "  trained_model1_without_TM, _, model1_test_accuracy_without_TM = train_and_eval_model(n_epochs = optim_config_classifier1['epochs'], \n",
        "                                                                          model = cnn_model, \n",
        "                                                                          data_train_loader = train_loader,\n",
        "                                                                          data_val_loader = val_loader,\n",
        "                                                                          data_test_loader = test_loader,\n",
        "                                                                          T_matrix = transition_matrices[dataset],\n",
        "                                                                          optimizer = optimizer_classifier1, \n",
        "                                                                          loss_function = loss_function_classifier1,\n",
        "                                                                          optim_config = optim_config_classifier1,\n",
        "                                                                          run_with_Tmatrix = False)\n",
        "  \n",
        "  model1_test_acc_dict[dataset][0].append(model1_test_accuracy_without_TM)\n",
        "\n",
        "print(\"Before Transition Matrix: The mean of test accuracy is {:2f}%\".format(round(np.mean(model1_test_acc_dict[dataset][0][1:10]))))\n",
        "print(\"Before Transition Matrix: The standard deviation of test accuracy is {:2f}\".format(round(np.std(model1_test_acc_dict[dataset][0][1:10]))))"
      ],
      "metadata": {
        "id": "WUQJs5FJt39Q",
        "colab": {
          "base_uri": "https://localhost:8080/"
        },
        "outputId": "7fc24162-3c73-4b5b-db1b-499593e074ed"
      },
      "execution_count": null,
      "outputs": [
        {
          "output_type": "stream",
          "name": "stdout",
          "text": [
            "----------\n",
            "Experiments for dataset: fashionmnist0.5\n",
            "\n",
            "Transition Matrix: \n",
            "tensor([[0.5000, 0.2000, 0.3000],\n",
            "        [0.3000, 0.5000, 0.2000],\n",
            "        [0.2000, 0.3000, 0.5000]])\n",
            "\n",
            "\n",
            "The training iteration: 1\n",
            "The training iteration: 1 - Without Transition Matrix\n",
            "\n",
            "\n",
            "-----\n",
            "Train epoch is: 1 and Model Loss and Accuracy are: 1.063 and 45.0%\n",
            "Model validation: Top-1 Accuracy is: 47.67%\n",
            "-----\n",
            "-----\n",
            "Train epoch is: 3 and Model Loss and Accuracy are: 1.039 and 49.0%\n",
            "Model validation: Top-1 Accuracy is: 47.22%\n",
            "-----\n",
            "-----\n",
            "Train epoch is: 5 and Model Loss and Accuracy are: 1.024 and 50.0%\n",
            "Model validation: Top-1 Accuracy is: 46.97%\n",
            "-----\n",
            "-----\n",
            "Train epoch is: 7 and Model Loss and Accuracy are: 1.0 and 51.0%\n",
            "Model validation: Top-1 Accuracy is: 46.17%\n",
            "-----\n",
            "-----\n",
            "Train epoch is: 9 and Model Loss and Accuracy are: 0.952 and 54.0%\n",
            "Model validation: Top-1 Accuracy is: 45.28%\n",
            "-----\n",
            "-----\n",
            "Train epoch is: 11 and Model Loss and Accuracy are: 0.897 and 57.0%\n",
            "Model validation: Top-1 Accuracy is: 45.36%\n",
            "-----\n",
            "-----\n",
            "Train epoch is: 13 and Model Loss and Accuracy are: 0.814 and 62.0%\n",
            "Model validation: Top-1 Accuracy is: 44.19%\n",
            "-----\n",
            "-----\n",
            "Train epoch is: 15 and Model Loss and Accuracy are: 0.716 and 67.0%\n",
            "Model validation: Top-1 Accuracy is: 41.5%\n",
            "Accuracy of test dataset is: 89.570000%\n",
            "The training iteration: 2\n",
            "The training iteration: 2 - Without Transition Matrix\n",
            "\n",
            "\n",
            "-----\n",
            "Train epoch is: 1 and Model Loss and Accuracy are: 1.062 and 45.0%\n",
            "Model validation: Top-1 Accuracy is: 48.5%\n",
            "-----\n",
            "-----\n",
            "Train epoch is: 3 and Model Loss and Accuracy are: 1.039 and 48.0%\n",
            "Model validation: Top-1 Accuracy is: 49.03%\n",
            "-----\n",
            "-----\n",
            "Train epoch is: 5 and Model Loss and Accuracy are: 1.025 and 49.0%\n",
            "Model validation: Top-1 Accuracy is: 49.03%\n",
            "-----\n",
            "-----\n",
            "Train epoch is: 7 and Model Loss and Accuracy are: 0.995 and 51.0%\n",
            "Model validation: Top-1 Accuracy is: 48.0%\n",
            "-----\n",
            "-----\n",
            "Train epoch is: 9 and Model Loss and Accuracy are: 0.955 and 53.0%\n",
            "Model validation: Top-1 Accuracy is: 45.25%\n",
            "-----\n",
            "-----\n",
            "Train epoch is: 11 and Model Loss and Accuracy are: 0.883 and 58.0%\n",
            "Model validation: Top-1 Accuracy is: 44.69%\n",
            "-----\n",
            "-----\n",
            "Train epoch is: 13 and Model Loss and Accuracy are: 0.795 and 63.0%\n",
            "Model validation: Top-1 Accuracy is: 40.86%\n",
            "-----\n",
            "-----\n",
            "Train epoch is: 15 and Model Loss and Accuracy are: 0.692 and 68.0%\n",
            "Model validation: Top-1 Accuracy is: 40.28%\n",
            "Accuracy of test dataset is: 93.830000%\n",
            "The training iteration: 3\n",
            "The training iteration: 3 - Without Transition Matrix\n",
            "\n",
            "\n",
            "-----\n",
            "Train epoch is: 1 and Model Loss and Accuracy are: 1.06 and 45.0%\n",
            "Model validation: Top-1 Accuracy is: 46.42%\n",
            "-----\n",
            "-----\n",
            "Train epoch is: 3 and Model Loss and Accuracy are: 1.037 and 49.0%\n",
            "Model validation: Top-1 Accuracy is: 46.92%\n",
            "-----\n",
            "-----\n",
            "Train epoch is: 5 and Model Loss and Accuracy are: 1.026 and 49.0%\n",
            "Model validation: Top-1 Accuracy is: 46.72%\n",
            "-----\n",
            "-----\n",
            "Train epoch is: 7 and Model Loss and Accuracy are: 0.999 and 51.0%\n",
            "Model validation: Top-1 Accuracy is: 46.36%\n",
            "-----\n",
            "-----\n",
            "Train epoch is: 9 and Model Loss and Accuracy are: 0.958 and 54.0%\n",
            "Model validation: Top-1 Accuracy is: 44.31%\n",
            "-----\n",
            "-----\n",
            "Train epoch is: 11 and Model Loss and Accuracy are: 0.902 and 57.0%\n",
            "Model validation: Top-1 Accuracy is: 44.31%\n",
            "-----\n",
            "-----\n",
            "Train epoch is: 13 and Model Loss and Accuracy are: 0.808 and 62.0%\n",
            "Model validation: Top-1 Accuracy is: 43.56%\n",
            "-----\n",
            "-----\n",
            "Train epoch is: 15 and Model Loss and Accuracy are: 0.717 and 67.0%\n",
            "Model validation: Top-1 Accuracy is: 42.72%\n",
            "Accuracy of test dataset is: 92.830000%\n",
            "The training iteration: 4\n",
            "The training iteration: 4 - Without Transition Matrix\n",
            "\n",
            "\n",
            "-----\n",
            "Train epoch is: 1 and Model Loss and Accuracy are: 1.061 and 45.0%\n",
            "Model validation: Top-1 Accuracy is: 46.11%\n",
            "-----\n",
            "-----\n",
            "Train epoch is: 3 and Model Loss and Accuracy are: 1.035 and 49.0%\n",
            "Model validation: Top-1 Accuracy is: 46.83%\n",
            "-----\n",
            "-----\n",
            "Train epoch is: 5 and Model Loss and Accuracy are: 1.021 and 50.0%\n",
            "Model validation: Top-1 Accuracy is: 48.17%\n",
            "-----\n",
            "-----\n",
            "Train epoch is: 7 and Model Loss and Accuracy are: 0.993 and 52.0%\n",
            "Model validation: Top-1 Accuracy is: 47.08%\n",
            "-----\n",
            "-----\n",
            "Train epoch is: 9 and Model Loss and Accuracy are: 0.95 and 54.0%\n",
            "Model validation: Top-1 Accuracy is: 44.06%\n",
            "-----\n",
            "-----\n",
            "Train epoch is: 11 and Model Loss and Accuracy are: 0.881 and 59.0%\n",
            "Model validation: Top-1 Accuracy is: 45.25%\n",
            "-----\n",
            "-----\n",
            "Train epoch is: 13 and Model Loss and Accuracy are: 0.798 and 63.0%\n",
            "Model validation: Top-1 Accuracy is: 42.06%\n",
            "-----\n",
            "-----\n",
            "Train epoch is: 15 and Model Loss and Accuracy are: 0.69 and 69.0%\n",
            "Model validation: Top-1 Accuracy is: 43.89%\n",
            "Accuracy of test dataset is: 92.270000%\n",
            "The training iteration: 5\n",
            "The training iteration: 5 - Without Transition Matrix\n",
            "\n",
            "\n",
            "-----\n",
            "Train epoch is: 1 and Model Loss and Accuracy are: 1.06 and 46.0%\n",
            "Model validation: Top-1 Accuracy is: 47.44%\n",
            "-----\n",
            "-----\n",
            "Train epoch is: 3 and Model Loss and Accuracy are: 1.037 and 48.0%\n",
            "Model validation: Top-1 Accuracy is: 47.08%\n",
            "-----\n",
            "-----\n",
            "Train epoch is: 5 and Model Loss and Accuracy are: 1.022 and 50.0%\n",
            "Model validation: Top-1 Accuracy is: 46.97%\n",
            "-----\n",
            "-----\n",
            "Train epoch is: 7 and Model Loss and Accuracy are: 0.994 and 52.0%\n",
            "Model validation: Top-1 Accuracy is: 46.92%\n",
            "-----\n",
            "-----\n",
            "Train epoch is: 9 and Model Loss and Accuracy are: 0.947 and 55.0%\n",
            "Model validation: Top-1 Accuracy is: 43.86%\n",
            "-----\n",
            "-----\n",
            "Train epoch is: 11 and Model Loss and Accuracy are: 0.885 and 58.0%\n",
            "Model validation: Top-1 Accuracy is: 44.22%\n",
            "-----\n",
            "-----\n",
            "Train epoch is: 13 and Model Loss and Accuracy are: 0.797 and 63.0%\n",
            "Model validation: Top-1 Accuracy is: 41.53%\n",
            "-----\n",
            "-----\n",
            "Train epoch is: 15 and Model Loss and Accuracy are: 0.693 and 69.0%\n",
            "Model validation: Top-1 Accuracy is: 40.75%\n",
            "Accuracy of test dataset is: 92.870000%\n",
            "The training iteration: 6\n",
            "The training iteration: 6 - Without Transition Matrix\n",
            "\n",
            "\n",
            "-----\n",
            "Train epoch is: 1 and Model Loss and Accuracy are: 1.061 and 46.0%\n",
            "Model validation: Top-1 Accuracy is: 45.75%\n",
            "-----\n",
            "-----\n"
          ]
        }
      ]
    },
    {
      "cell_type": "markdown",
      "source": [
        "##### With Transition Matrix"
      ],
      "metadata": {
        "id": "SleWw5lalV1-"
      }
    },
    {
      "cell_type": "code",
      "source": [
        "dataset = \"fashionmnist0.5\"\n",
        "\n",
        "print(\"-\"*10)\n",
        "print(\"Experiments for dataset: {}\".format(dataset))\n",
        "print(\"\\nTransition Matrix: \\n{}\".format(transition_matrices[dataset]))\n",
        "\n",
        "# Obtain the corresponding dataset\n",
        "X_train_val = dataset_list[dataset][0]\n",
        "Y_train_val = dataset_list[dataset][1]\n",
        "X_test = dataset_list[dataset][2]\n",
        "Y_test = dataset_list[dataset][3]\n",
        "\n",
        "# Detect if GPU or CPU\n",
        "device = torch.device(\"cuda:0\" if torch.cuda.is_available() else \"cpu\")\n",
        "\n",
        "# Set up setting for experiments\n",
        "if dataset.lower() == 'cifar':\n",
        "    in_channels = 3\n",
        "    n_filters = 24\n",
        "else:\n",
        "    in_channels = 1\n",
        "    n_filters = 20\n",
        "\n",
        "for n_iter in range(n_iters):\n",
        "  print(\"The training iteration: {}\".format(n_iter + 1))    \n",
        "\n",
        "  with torch.no_grad():\n",
        "      torch.cuda.empty_cache()\n",
        "\n",
        "  # Load dataset:\n",
        "  train_loader, val_loader, test_loader = data_loader_for_evaluation_function(train_val_data = X_train_val, \n",
        "                                                                              train_val_label = Y_train_val, \n",
        "                                                                              test_data = X_test, \n",
        "                                                                              test_label = Y_test,\n",
        "                                                                              batch_size = optim_config_classifier1[\"batch_size\"])\n",
        "  \n",
        "  # Initiate the model\n",
        "  cnn_model = Classifier1(in_channels = in_channels, n_filters = n_filters).to(device)\n",
        "\n",
        "  # Define criterion and optimizer\n",
        "  loss_function_classifier1 = nn.CrossEntropyLoss()\n",
        "  optimizer_classifier1 = torch.optim.SGD(params = cnn_model.parameters(),\n",
        "                                        lr = optim_config_classifier1['lr'], \n",
        "                                        momentum = optim_config_classifier1['momentum'],\n",
        "                                        weight_decay = optim_config_classifier1['weight_decay'])\n",
        "\n",
        "  print(\"The training iteration: {} - With Transition Matrix\".format(n_iter + 1)) \n",
        "  \n",
        "  # Train and evaluate model with Transition Matrix\n",
        "  trained_model1_with_TM, _, model1_test_accuracy_with_TM = train_and_eval_model(n_epochs = optim_config_classifier1['epochs'], \n",
        "                                                                                model = cnn_model, \n",
        "                                                                                data_train_loader = train_loader,\n",
        "                                                                                data_val_loader = val_loader,\n",
        "                                                                                data_test_loader = test_loader,\n",
        "                                                                                T_matrix = transition_matrices[dataset],\n",
        "                                                                                optimizer = optimizer_classifier1, \n",
        "                                                                                loss_function = loss_function_classifier1,\n",
        "                                                                                optim_config = optim_config_classifier1,\n",
        "                                                                                run_with_Tmatrix = True)\n",
        "  \n",
        "  model1_test_acc_dict[dataset][1].append(model1_test_accuracy_with_TM)\n",
        "\n",
        "print(\"\\nAfter Transition Matrix: The mean of test accuracy is {:2f}%\".format(round(np.mean(model1_test_acc_dict[dataset][1][1:10]))))\n",
        "print(\"After Transition Matrix: The standard deviation of test accuracy is {:2f}\".format(round(np.std(model1_test_acc_dict[dataset][1][1:10]))))"
      ],
      "metadata": {
        "id": "9A9jzbvmiLUE"
      },
      "execution_count": null,
      "outputs": []
    },
    {
      "cell_type": "markdown",
      "source": [
        "#### 5.5.3 FashionMNIST06"
      ],
      "metadata": {
        "id": "YcO4zIiYmWxu"
      }
    },
    {
      "cell_type": "markdown",
      "source": [
        "##### Without Transition Matrix"
      ],
      "metadata": {
        "id": "GqCqd1WfmbaQ"
      }
    },
    {
      "cell_type": "code",
      "source": [
        "dataset = \"fashionmnist0.6\"\n",
        "\n",
        "print(\"-\"*10)\n",
        "print(\"Experiments for dataset: {}\".format(dataset))\n",
        "print(\"\\nTransition Matrix: \\n{}\".format(transition_matrices[dataset]))\n",
        "print(\"\\n\")\n",
        "\n",
        "# Obtain the corresponding dataset\n",
        "X_train_val = dataset_list[dataset][0]\n",
        "Y_train_val = dataset_list[dataset][1]\n",
        "X_test = dataset_list[dataset][2]\n",
        "Y_test = dataset_list[dataset][3]\n",
        "\n",
        "# Detect if GPU or CPU\n",
        "device = torch.device(\"cuda:0\" if torch.cuda.is_available() else \"cpu\")\n",
        "\n",
        "# Set up setting for experiments\n",
        "if dataset.lower() == 'cifar':\n",
        "    in_channels = 3\n",
        "    n_filters = 24\n",
        "else:\n",
        "    in_channels = 1\n",
        "    n_filters = 20\n",
        "\n",
        "for n_iter in range(n_iters):\n",
        "  print(\"The training iteration: {}\".format(n_iter + 1))    \n",
        "\n",
        "  with torch.no_grad():\n",
        "      torch.cuda.empty_cache()\n",
        "\n",
        "  # Load dataset:\n",
        "  train_loader, val_loader, test_loader = data_loader_for_evaluation_function(train_val_data = X_train_val, \n",
        "                                                                              train_val_label = Y_train_val, \n",
        "                                                                              test_data = X_test, \n",
        "                                                                              test_label = Y_test,\n",
        "                                                                              batch_size = optim_config_classifier1[\"batch_size\"])\n",
        "  \n",
        "  # Initiate the model\n",
        "  cnn_model = Classifier1(in_channels = in_channels, n_filters = n_filters).to(device)\n",
        "\n",
        "  # Define criterion and optimizer\n",
        "  loss_function_classifier1 = nn.CrossEntropyLoss()\n",
        "  optimizer_classifier1 = torch.optim.SGD(params = cnn_model.parameters(),\n",
        "                                        lr = optim_config_classifier1['lr'], \n",
        "                                        momentum = optim_config_classifier1['momentum'],\n",
        "                                        weight_decay = optim_config_classifier1['weight_decay'])\n",
        "\n",
        "  print(\"The training iteration: {} - Without Transition Matrix\".format(n_iter + 1)) \n",
        "  print(\"\\n\")\n",
        "  # Train and evaluate model without Transition Matrix\n",
        "  trained_model1_without_TM, _, model1_test_accuracy_without_TM = train_and_eval_model(n_epochs = optim_config_classifier1['epochs'], \n",
        "                                                                          model = cnn_model, \n",
        "                                                                          data_train_loader = train_loader,\n",
        "                                                                          data_val_loader = val_loader,\n",
        "                                                                          data_test_loader = test_loader,\n",
        "                                                                          T_matrix = transition_matrices[dataset],\n",
        "                                                                          optimizer = optimizer_classifier1, \n",
        "                                                                          loss_function = loss_function_classifier1,\n",
        "                                                                          optim_config = optim_config_classifier1,\n",
        "                                                                          run_with_Tmatrix = False)\n",
        "  \n",
        "  model1_test_acc_dict[dataset][0].append(model1_test_accuracy_without_TM)\n",
        "\n",
        "print(\"Before Transition Matrix: The mean of test accuracy is {:2f}%\".format(round(np.mean(model1_test_acc_dict[dataset][0][1:10]))))\n",
        "print(\"Before Transition Matrix: The standard deviation of test accuracy is {:2f}\".format(round(np.std(model1_test_acc_dict[dataset][0][1:10]))))"
      ],
      "metadata": {
        "id": "MVsLfBk-mYjI"
      },
      "execution_count": null,
      "outputs": []
    },
    {
      "cell_type": "markdown",
      "source": [
        "##### With Transition Matrix"
      ],
      "metadata": {
        "id": "Sq_958d2mcR6"
      }
    },
    {
      "cell_type": "code",
      "source": [
        "dataset = \"fashionmnist0.6\"\n",
        "\n",
        "print(\"-\"*10)\n",
        "print(\"Experiments for dataset: {}\".format(dataset))\n",
        "print(\"\\nTransition Matrix: \\n{}\".format(transition_matrices[dataset]))\n",
        "\n",
        "# Obtain the corresponding dataset\n",
        "X_train_val = dataset_list[dataset][0]\n",
        "Y_train_val = dataset_list[dataset][1]\n",
        "X_test = dataset_list[dataset][2]\n",
        "Y_test = dataset_list[dataset][3]\n",
        "\n",
        "# Detect if GPU or CPU\n",
        "device = torch.device(\"cuda:0\" if torch.cuda.is_available() else \"cpu\")\n",
        "\n",
        "# Set up setting for experiments\n",
        "if dataset.lower() == 'cifar':\n",
        "    in_channels = 3\n",
        "    n_filters = 24\n",
        "else:\n",
        "    in_channels = 1\n",
        "    n_filters = 20\n",
        "\n",
        "for n_iter in range(n_iters):\n",
        "  print(\"The training iteration: {}\".format(n_iter + 1))    \n",
        "\n",
        "  with torch.no_grad():\n",
        "      torch.cuda.empty_cache()\n",
        "\n",
        "  # Load dataset:\n",
        "  train_loader, val_loader, test_loader = data_loader_for_evaluation_function(train_val_data = X_train_val, \n",
        "                                                                              train_val_label = Y_train_val, \n",
        "                                                                              test_data = X_test, \n",
        "                                                                              test_label = Y_test,\n",
        "                                                                              batch_size = optim_config_classifier1[\"batch_size\"])\n",
        "                  \n",
        "  # Initiate the model\n",
        "  cnn_model = Classifier1(in_channels = in_channels, n_filters = n_filters).to(device)\n",
        "\n",
        "  # Define criterion and optimizer\n",
        "  loss_function_classifier1 = nn.CrossEntropyLoss()\n",
        "  optimizer_classifier1 = torch.optim.SGD(params = cnn_model.parameters(),\n",
        "                                        lr = optim_config_classifier1['lr'], \n",
        "                                        momentum = optim_config_classifier1['momentum'],\n",
        "                                        weight_decay = optim_config_classifier1['weight_decay'])\n",
        "\n",
        "  print(\"The training iteration: {} - With Transition Matrix\".format(n_iter + 1)) \n",
        "  \n",
        "  # Train and evaluate model with Transition Matrix\n",
        "  trained_model1_with_TM, _, model1_test_accuracy_with_TM = train_and_eval_model(n_epochs = optim_config_classifier1['epochs'], \n",
        "                                                                                model = cnn_model, \n",
        "                                                                                data_train_loader = train_loader,\n",
        "                                                                                data_val_loader = val_loader,\n",
        "                                                                                data_test_loader = test_loader,\n",
        "                                                                                T_matrix = transition_matrices[dataset],\n",
        "                                                                                optimizer = optimizer_classifier1, \n",
        "                                                                                loss_function = loss_function_classifier1,\n",
        "                                                                                optim_config = optim_config_classifier1,\n",
        "                                                                                run_with_Tmatrix = True)\n",
        "  \n",
        "  model1_test_acc_dict[dataset][1].append(model1_test_accuracy_with_TM)\n",
        "\n",
        "print(\"\\nAfter Transition Matrix: The mean of test accuracy is {:2f}%\".format(round(np.mean(model1_test_acc_dict[dataset][1][1:10]))))\n",
        "print(\"After Transition Matrix: The standard deviation of test accuracy is {:2f}\".format(round(np.std(model1_test_acc_dict[dataset][1][1:10]))))"
      ],
      "metadata": {
        "id": "l4Fh0AylmYmJ"
      },
      "execution_count": null,
      "outputs": []
    },
    {
      "cell_type": "markdown",
      "metadata": {
        "id": "MKpwot7CBYN9"
      },
      "source": [
        "#6.Classifier 2"
      ]
    },
    {
      "cell_type": "markdown",
      "metadata": {
        "id": "XGjFU_d7VU8G"
      },
      "source": [
        "### 6.1 Model architecture"
      ]
    },
    {
      "cell_type": "code",
      "source": [
        "# Define a CNN class.\n",
        "class Classifier2(nn.Module):\n",
        "\n",
        "    def __init__(self, n_classes = 3, n_filters = 20, in_channels = 1):\n",
        "        super(Classifier2, self).__init__()\n",
        "        self.conv1 = nn.Conv2d(in_channels, 32, kernel_size = 5, stride = 1)\n",
        "        self.bn1 = nn.BatchNorm2d(32)\n",
        "        self.relu = nn.ReLU()\n",
        "\n",
        "        self.conv2 = nn.Conv2d(32, 48, kernel_size = 5, stride = 1)\n",
        "        self.bn2 = nn.BatchNorm2d(48)\n",
        "        self.relu = nn.ReLU()\n",
        "\n",
        "        self.FC_input_layer = nn.Linear(48*n_filters*n_filters, 128)\n",
        "\n",
        "        self.drop = nn.Dropout(0.25)\n",
        "        \n",
        "        self.FC_hidden_layer1 = nn.Linear(128, 100)\n",
        "        # self.FC_hidden_layer2 = nn.Linear(400, 200)\n",
        "        # self.FC_hidden_layer3 = nn.Linear(200, 100)\n",
        "\n",
        "        self.FC_output_layer = nn.Linear(100, n_classes)\n",
        "\n",
        "    def forward(self, output):\n",
        "        \"\"\"The structure of CNN model is as follows:\n",
        "        conv1->bn1->relu->cov2->bn2->relu->\n",
        "        input_layer->relu->dropout->hidden_layer1->relu->hidden_layer2->relu->hidden_layer3->relu->output_layer\n",
        "        \"\"\"\n",
        "\n",
        "        output = self.conv1(output)\n",
        "        output = self.bn1(output)\n",
        "        output = F.relu(output)\n",
        "\n",
        "        output = self.conv2(output)\n",
        "        output = self.bn2(output)\n",
        "        output = F.relu(output)\n",
        "\n",
        "        output = output.view(output.size(0), -1)\n",
        "        output = F.relu(self.FC_input_layer(output))\n",
        "\n",
        "        output = self.drop(output)\n",
        "        \n",
        "        output = F.relu(self.FC_hidden_layer1(output))\n",
        "        # output = F.relu(self.FC_hidden_layer2(output))\n",
        "        # output = F.relu(self.FC_hidden_layer3(output))\n",
        "\n",
        "        output = self.FC_output_layer(output)\n",
        "\n",
        "        return output     "
      ],
      "metadata": {
        "id": "CZKv4N6VMQuH"
      },
      "execution_count": null,
      "outputs": []
    },
    {
      "cell_type": "markdown",
      "metadata": {
        "id": "nxcR9khzVY5q"
      },
      "source": [
        "## 6.2 Performance Evaluation"
      ]
    },
    {
      "cell_type": "code",
      "execution_count": null,
      "metadata": {
        "id": "BCB1zooDgmbA"
      },
      "outputs": [],
      "source": [
        "dataset_list = {'cifar': [cifar_data_Xtr_val, cifar_data_Ytr_val, cifar_data_Xts, cifar_data_Yts],\n",
        "            'fashionmnist0.5': [fashion_mnist05_Xtr_val, fashion_mnist05_Ytr_val, fashion_mnist05_data_Xts, fashion_mnist05_data_Yts],\n",
        "            'fashionmnist0.6': [fashion_mnist06_Xtr_val, fashion_mnist06_Ytr_val, fashion_mnist06_data_Xts, fashion_mnist06_data_Yts]}"
      ]
    },
    {
      "cell_type": "code",
      "source": [
        "# Define optimal config:\n",
        "optim_config_classifier2 = OrderedDict([\n",
        "    ('epochs', 10),\n",
        "    ('batch_size', 128),\n",
        "    ('lr', 0.01),\n",
        "    ('weight_decay', 1e-5),\n",
        "    ('momentum', 0.9),\n",
        "    ('lr_decay', 0.1)\n",
        "])\n",
        "\n",
        "# Set the number of times to run the model\n",
        "n_iters = 10\n",
        "\n",
        "# Create a dictionary to store list of all experimental results\n",
        "model2_test_acc_dict = {\n",
        "                        \"cifar\": [list(), list()], #1st list is for accuracy without transition matrix, 2nd for accuracy with transition matrix\n",
        "                        \"fashionmnist0.5\": [list(), list()],\n",
        "                        \"fashionmnist0.6\": [list(), list()]\n",
        "                        }\n"
      ],
      "metadata": {
        "id": "OC6ba1UxoGhE"
      },
      "execution_count": null,
      "outputs": []
    },
    {
      "cell_type": "markdown",
      "source": [
        "#### 6.2.1 CIFAR"
      ],
      "metadata": {
        "id": "97Tj8UJHn9v0"
      }
    },
    {
      "cell_type": "markdown",
      "source": [
        "##### Without Transition Matrix"
      ],
      "metadata": {
        "id": "szkuXogLr_d9"
      }
    },
    {
      "cell_type": "code",
      "execution_count": null,
      "metadata": {
        "id": "epzGE44vgM_D"
      },
      "outputs": [],
      "source": [
        "dataset = \"cifar\"\n",
        "\n",
        "print(\"-\"*10)\n",
        "print(\"Experiments for dataset: {}\".format(dataset))\n",
        "print(\"\\nTransition Matrix: \\n{}\".format(transition_matrices[dataset]))\n",
        "\n",
        "# Obtain the corresponding dataset\n",
        "X_train_val = dataset_list[dataset][0]\n",
        "Y_train_val = dataset_list[dataset][1]\n",
        "X_test = dataset_list[dataset][2]\n",
        "Y_test = dataset_list[dataset][3]\n",
        "\n",
        "# Detect if GPU or CPU\n",
        "device = torch.device(\"cuda:0\" if torch.cuda.is_available() else \"cpu\")\n",
        "\n",
        "# Set up setting for experiments\n",
        "if dataset.lower() == 'cifar':\n",
        "    in_channels = 3\n",
        "    n_filters = 24\n",
        "else:\n",
        "    in_channels = 1\n",
        "    n_filters = 20\n",
        "\n",
        "for n_iter in range(n_iters):\n",
        "\n",
        "  print(\"The training iteration: {}\".format(n_iter + 1))    \n",
        "\n",
        "  with torch.no_grad():\n",
        "      torch.cuda.empty_cache()\n",
        "\n",
        "  # Load dataset:\n",
        "  train_loader, val_loader, test_loader = data_loader_for_evaluation_function(train_val_data = X_train_val, \n",
        "                                                                              train_val_label = Y_train_val, \n",
        "                                                                              test_data = X_test, \n",
        "                                                                              test_label = Y_test,\n",
        "                                                                              batch_size = optim_config_classifier2[\"batch_size\"])\n",
        "\n",
        "  # Initiate the model\n",
        "  cnn_model = Classifier2(in_channels = in_channels, n_filters = n_filters).to(device)\n",
        "\n",
        "  # Define criterion and optimizer\n",
        "  loss_function_classifier2 = nn.CrossEntropyLoss()\n",
        "  optimizer_classifier2 = torch.optim.SGD(params = cnn_model.parameters(),\n",
        "                                        lr = optim_config_classifier2['lr'], \n",
        "                                        momentum = optim_config_classifier2['momentum'],\n",
        "                                        weight_decay = optim_config_classifier2['weight_decay'])\n",
        "\n",
        "  print(\"The training iteration: {} - Without Transition Matrix\".format(n_iter + 1)) \n",
        "\n",
        "  # Train and evaluate model without Transition Matrix\n",
        "  trained_model2_without_TM, _, model2_test_accuracy_without_TM = train_and_eval_model(n_epochs = optim_config_classifier2['epochs'], \n",
        "                                                                            model = cnn_model, \n",
        "                                                                            data_train_loader = train_loader,\n",
        "                                                                            data_val_loader = val_loader,\n",
        "                                                                            data_test_loader = test_loader,\n",
        "                                                                            T_matrix = transition_matrices[dataset],\n",
        "                                                                            optimizer = optimizer_classifier2, \n",
        "                                                                            loss_function = loss_function_classifier2,\n",
        "                                                                            optim_config = optim_config_classifier2,\n",
        "                                                                            run_with_Tmatrix = False)\n",
        "\n",
        "  model2_test_acc_dict[dataset][0].append(model2_test_accuracy_without_TM)\n",
        "\n",
        "print(\"\\nBefore Transition Matrix: The mean of test accuracy is {:2f}%\".format(round(np.mean(model2_test_acc_dict[dataset][0][1:10])), 2))\n",
        "print(\"Before Transition Matrix: The standard deviation of test accuracy is {:2f}\".format(round(np.std(model2_test_acc_dict[dataset][0][1:10])), 3))"
      ]
    },
    {
      "cell_type": "markdown",
      "source": [
        "##### With Transition Matrix"
      ],
      "metadata": {
        "id": "yDQbNEATsBOE"
      }
    },
    {
      "cell_type": "code",
      "source": [
        "dataset = \"cifar\"\n",
        "\n",
        "print(\"-\"*10)\n",
        "print(\"Experiments for dataset: {}\".format(dataset))\n",
        "print(\"\\nTransition Matrix: \\n{}\".format(transition_matrices[dataset]))\n",
        "\n",
        "# Obtain the corresponding dataset\n",
        "X_train_val = dataset_list[dataset][0]\n",
        "Y_train_val = dataset_list[dataset][1]\n",
        "X_test = dataset_list[dataset][2]\n",
        "Y_test = dataset_list[dataset][3]\n",
        "\n",
        "# Detect if GPU or CPU\n",
        "device = torch.device(\"cuda:0\" if torch.cuda.is_available() else \"cpu\")\n",
        "\n",
        "# Set up setting for experiments\n",
        "if dataset.lower() == 'cifar':\n",
        "    in_channels = 3\n",
        "    n_filters = 24\n",
        "else:\n",
        "    in_channels = 1\n",
        "    n_filters = 20\n",
        "\n",
        "for n_iter in range(n_iters):\n",
        "\n",
        "  print(\"The training iteration: {}\".format(n_iter + 1))    \n",
        "\n",
        "  with torch.no_grad():\n",
        "      torch.cuda.empty_cache()\n",
        "\n",
        "  # Load dataset:\n",
        "  train_loader, val_loader, test_loader = data_loader_for_evaluation_function(train_val_data = X_train_val, \n",
        "                                                                              train_val_label = Y_train_val, \n",
        "                                                                              test_data = X_test, \n",
        "                                                                              test_label = Y_test,\n",
        "                                                                              batch_size = optim_config_classifier2[\"batch_size\"])\n",
        "\n",
        "  # Initiate the model\n",
        "  cnn_model = Classifier2(in_channels = in_channels, n_filters = n_filters).to(device)\n",
        "\n",
        "  # Define criterion and optimizer\n",
        "  loss_function_classifier2 = nn.CrossEntropyLoss()\n",
        "  optimizer_classifier2 = torch.optim.SGD(params = cnn_model.parameters(),\n",
        "                                        lr = optim_config_classifier2['lr'], \n",
        "                                        momentum = optim_config_classifier2['momentum'],\n",
        "                                        weight_decay = optim_config_classifier2['weight_decay'])  \n",
        "  \n",
        "  print(\"The training iteration: {} - With Transition Matrix\".format(n_iter + 1)) \n",
        "  # Train and evaluate model with Transition Matrix\n",
        "  trained_model2_with_TM, _, model2_test_accuracy_with_TM = train_and_eval_model(n_epochs = optim_config_classifier2['epochs'], \n",
        "                                                                                model = cnn_model, \n",
        "                                                                                data_train_loader = train_loader,\n",
        "                                                                                data_val_loader = val_loader,\n",
        "                                                                                data_test_loader = test_loader,\n",
        "                                                                                T_matrix = transition_matrices[dataset],\n",
        "                                                                                optimizer = optimizer_classifier2, \n",
        "                                                                                loss_function = loss_function_classifier2,\n",
        "                                                                                optim_config = optim_config_classifier2,\n",
        "                                                                                run_with_Tmatrix = True)\n",
        "\n",
        "  model2_test_acc_dict[dataset][1].append(model2_test_accuracy_with_TM)\n",
        "\n",
        "print(\"\\nAfter Transition Matrix: The mean of test accuracy is {:2f}%\".format(round(np.mean(model2_test_acc_dict[dataset][1][1:10]))))\n",
        "print(\"After Transition Matrix: The standard deviation of test accuracy is {:2f}\".format(round(np.std(model2_test_acc_dict[dataset][1][1:10]))))"
      ],
      "metadata": {
        "id": "quT2ixupp6fX"
      },
      "execution_count": null,
      "outputs": []
    },
    {
      "cell_type": "markdown",
      "source": [
        "#### 6.2.2 FashionMNIST05"
      ],
      "metadata": {
        "id": "YcFb_Dj7sGWc"
      }
    },
    {
      "cell_type": "markdown",
      "source": [
        "##### Without Transition Matrix"
      ],
      "metadata": {
        "id": "VEa1zH1YsSl2"
      }
    },
    {
      "cell_type": "code",
      "source": [
        "dataset = \"fashionmnist0.5\"\n",
        "\n",
        "print(\"-\"*10)\n",
        "print(\"Experiments for dataset: {}\".format(dataset))\n",
        "print(\"\\nTransition Matrix: \\n{}\".format(transition_matrices[dataset]))\n",
        "\n",
        "# Obtain the corresponding dataset\n",
        "X_train_val = dataset_list[dataset][0]\n",
        "Y_train_val = dataset_list[dataset][1]\n",
        "X_test = dataset_list[dataset][2]\n",
        "Y_test = dataset_list[dataset][3]\n",
        "\n",
        "# Detect if GPU or CPU\n",
        "device = torch.device(\"cuda:0\" if torch.cuda.is_available() else \"cpu\")\n",
        "\n",
        "# Set up setting for experiments\n",
        "if dataset.lower() == 'cifar':\n",
        "    in_channels = 3\n",
        "    n_filters = 24\n",
        "else:\n",
        "    in_channels = 1\n",
        "    n_filters = 20\n",
        "\n",
        "for n_iter in range(n_iters):\n",
        "\n",
        "  print(\"The training iteration: {}\".format(n_iter + 1))    \n",
        "\n",
        "  with torch.no_grad():\n",
        "      torch.cuda.empty_cache()\n",
        "\n",
        "  # Load dataset:\n",
        "  train_loader, val_loader, test_loader = data_loader_for_evaluation_function(train_val_data = X_train_val, \n",
        "                                                                              train_val_label = Y_train_val, \n",
        "                                                                              test_data = X_test, \n",
        "                                                                              test_label = Y_test, \n",
        "                                                                              batch_size = optim_config_classifier2[\"batch_size\"])\n",
        "\n",
        "  # Initiate the model\n",
        "  cnn_model = Classifier2(in_channels = in_channels, n_filters = n_filters).to(device)\n",
        "\n",
        "  # Define criterion and optimizer\n",
        "  loss_function_classifier2 = nn.CrossEntropyLoss()\n",
        "  optimizer_classifier2 = torch.optim.SGD(params = cnn_model.parameters(),\n",
        "                                        lr = optim_config_classifier2['lr'], \n",
        "                                        momentum = optim_config_classifier2['momentum'],\n",
        "                                        weight_decay = optim_config_classifier2['weight_decay'])\n",
        "\n",
        "  print(\"The training iteration: {} - Without Transition Matrix\".format(n_iter + 1)) \n",
        "\n",
        "  # Train and evaluate model without Transition Matrix\n",
        "  trained_model2_without_TM, _, model2_test_accuracy_without_TM = train_and_eval_model(n_epochs = optim_config_classifier2['epochs'], \n",
        "                                                                            model = cnn_model, \n",
        "                                                                            data_train_loader = train_loader,\n",
        "                                                                            data_val_loader = val_loader,\n",
        "                                                                            data_test_loader = test_loader,\n",
        "                                                                            T_matrix = transition_matrices[dataset],\n",
        "                                                                            optimizer = optimizer_classifier2, \n",
        "                                                                            loss_function = loss_function_classifier2,\n",
        "                                                                            optim_config = optim_config_classifier2,\n",
        "                                                                            run_with_Tmatrix = False)\n",
        "\n",
        "  model2_test_acc_dict[dataset][0].append(model2_test_accuracy_without_TM)\n",
        "\n",
        "print(\"\\nBefore Transition Matrix: The mean of test accuracy is {:2f}%\".format(round(np.mean(model2_test_acc_dict[dataset][0][1:10]))))\n",
        "print(\"Before Transition Matrix: The standard deviation of test accuracy is {:2f}\".format(round(np.std(model2_test_acc_dict[dataset][0][1:10]))))"
      ],
      "metadata": {
        "id": "b6gpKELFsFs_"
      },
      "execution_count": null,
      "outputs": []
    },
    {
      "cell_type": "markdown",
      "source": [
        "##### With Transition Matrix"
      ],
      "metadata": {
        "id": "j3fWwnOMsTvA"
      }
    },
    {
      "cell_type": "code",
      "source": [
        "dataset = \"fashionmnist0.5\"\n",
        "\n",
        "print(\"-\"*10)\n",
        "print(\"Experiments for dataset: {}\".format(dataset))\n",
        "print(\"\\nTransition Matrix: \\n{}\".format(transition_matrices[dataset]))\n",
        "\n",
        "# Obtain the corresponding dataset\n",
        "X_train_val = dataset_list[dataset][0]\n",
        "Y_train_val = dataset_list[dataset][1]\n",
        "X_test = dataset_list[dataset][2]\n",
        "Y_test = dataset_list[dataset][3]\n",
        "\n",
        "# Detect if GPU or CPU\n",
        "device = torch.device(\"cuda:0\" if torch.cuda.is_available() else \"cpu\")\n",
        "\n",
        "# Set up setting for experiments\n",
        "if dataset.lower() == 'cifar':\n",
        "    in_channels = 3\n",
        "    n_filters = 24\n",
        "else:\n",
        "    in_channels = 1\n",
        "    n_filters = 20\n",
        "\n",
        "for n_iter in range(n_iters):\n",
        "\n",
        "  print(\"The training iteration: {}\".format(n_iter + 1))    \n",
        "\n",
        "  with torch.no_grad():\n",
        "      torch.cuda.empty_cache()\n",
        "\n",
        "  # Load dataset:\n",
        "  train_loader, val_loader, test_loader = data_loader_for_evaluation_function(train_val_data = X_train_val, \n",
        "                                                                              train_val_label = Y_train_val, \n",
        "                                                                              test_data = X_test, \n",
        "                                                                              test_label = Y_test,\n",
        "                                                                              batch_size = optim_config_classifier2[\"batch_size\"])\n",
        "\n",
        "  # Initiate the model\n",
        "  cnn_model = Classifier2(in_channels = in_channels, n_filters = n_filters).to(device)\n",
        "\n",
        "  # Define criterion and optimizer\n",
        "  loss_function_classifier2 = nn.CrossEntropyLoss()\n",
        "  optimizer_classifier2 = torch.optim.SGD(params = cnn_model.parameters(),\n",
        "                                        lr = optim_config_classifier2['lr'], \n",
        "                                        momentum = optim_config_classifier2['momentum'],\n",
        "                                        weight_decay = optim_config_classifier2['weight_decay'])  \n",
        "  \n",
        "  print(\"The training iteration: {} - With Transition Matrix\".format(n_iter + 1)) \n",
        "  # Train and evaluate model with Transition Matrix\n",
        "  trained_model2_with_TM, _, model2_test_accuracy_with_TM = train_and_eval_model(n_epochs = optim_config_classifier2['epochs'], \n",
        "                                                                                model = cnn_model, \n",
        "                                                                                data_train_loader = train_loader,\n",
        "                                                                                data_val_loader = val_loader,\n",
        "                                                                                data_test_loader = test_loader,\n",
        "                                                                                T_matrix = transition_matrices[dataset],\n",
        "                                                                                optimizer = optimizer_classifier2, \n",
        "                                                                                loss_function = loss_function_classifier2,\n",
        "                                                                                optim_config = optim_config_classifier2,\n",
        "                                                                                run_with_Tmatrix = True)\n",
        "\n",
        "  model2_test_acc_dict[dataset][1].append(model2_test_accuracy_with_TM)\n",
        "\n",
        "print(\"\\nAfter Transition Matrix: The mean of test accuracy is {:2f}%\".format(round(np.mean(model2_test_acc_dict[dataset][1][1:10]))))\n",
        "print(\"After Transition Matrix: The standard deviation of test accuracy is {:2f}\".format(round(np.std(model2_test_acc_dict[dataset][1][1:10]))))"
      ],
      "metadata": {
        "id": "GDl0KuJCsUku"
      },
      "execution_count": null,
      "outputs": []
    },
    {
      "cell_type": "markdown",
      "source": [
        "#### 6.2.3 FashionMNIST06"
      ],
      "metadata": {
        "id": "aLb-9iHWsKSh"
      }
    },
    {
      "cell_type": "markdown",
      "source": [
        "##### Without Transition Matrix"
      ],
      "metadata": {
        "id": "1ur3JaD3sVEp"
      }
    },
    {
      "cell_type": "code",
      "source": [
        "dataset = \"fashionmnist0.6\"\n",
        "\n",
        "print(\"-\"*10)\n",
        "print(\"Experiments for dataset: {}\".format(dataset))\n",
        "print(\"\\nTransition Matrix: \\n{}\".format(transition_matrices[dataset]))\n",
        "\n",
        "# Obtain the corresponding dataset\n",
        "X_train_val = dataset_list[dataset][0]\n",
        "Y_train_val = dataset_list[dataset][1]\n",
        "X_test = dataset_list[dataset][2]\n",
        "Y_test = dataset_list[dataset][3]\n",
        "\n",
        "# Detect if GPU or CPU\n",
        "device = torch.device(\"cuda:0\" if torch.cuda.is_available() else \"cpu\")\n",
        "\n",
        "# Set up setting for experiments\n",
        "if dataset.lower() == 'cifar':\n",
        "    in_channels = 3\n",
        "    n_filters = 24\n",
        "else:\n",
        "    in_channels = 1\n",
        "    n_filters = 20\n",
        "\n",
        "for n_iter in range(n_iters):\n",
        "\n",
        "  print(\"The training iteration: {}\".format(n_iter + 1))    \n",
        "\n",
        "  with torch.no_grad():\n",
        "      torch.cuda.empty_cache()\n",
        "\n",
        "  # Load dataset:\n",
        "  train_loader, val_loader, test_loader = data_loader_for_evaluation_function(train_val_data = X_train_val, \n",
        "                                                                              train_val_label = Y_train_val, \n",
        "                                                                              test_data = X_test, \n",
        "                                                                              test_label = Y_test,\n",
        "                                                                              batch_size = optim_config_classifier2[\"batch_size\"])\n",
        "\n",
        "  # Initiate the model\n",
        "  cnn_model = Classifier2(in_channels = in_channels, n_filters = n_filters).to(device)\n",
        "\n",
        "  # Define criterion and optimizer\n",
        "  loss_function_classifier2 = nn.CrossEntropyLoss()\n",
        "  optimizer_classifier2 = torch.optim.SGD(params = cnn_model.parameters(),\n",
        "                                        lr = optim_config_classifier2['lr'], \n",
        "                                        momentum = optim_config_classifier2['momentum'],\n",
        "                                        weight_decay = optim_config_classifier2['weight_decay'])\n",
        "\n",
        "  print(\"The training iteration: {} - Without Transition Matrix\".format(n_iter + 1)) \n",
        "\n",
        "  # Train and evaluate model without Transition Matrix\n",
        "  trained_model2_without_TM, _, model2_test_accuracy_without_TM = train_and_eval_model(n_epochs = optim_config_classifier2['epochs'], \n",
        "                                                                            model = cnn_model, \n",
        "                                                                            data_train_loader = train_loader,\n",
        "                                                                            data_val_loader = val_loader,\n",
        "                                                                            data_test_loader = test_loader,\n",
        "                                                                            T_matrix = transition_matrices[dataset],\n",
        "                                                                            optimizer = optimizer_classifier2, \n",
        "                                                                            loss_function = loss_function_classifier2,\n",
        "                                                                            optim_config = optim_config_classifier2,\n",
        "                                                                            run_with_Tmatrix = False)\n",
        "\n",
        "  model2_test_acc_dict[dataset][0].append(model2_test_accuracy_without_TM)\n",
        "\n",
        "print(\"\\nBefore Transition Matrix: The mean of test accuracy is {:2f}%\".format(round(np.mean(model2_test_acc_dict[dataset][0][1:10]))))\n",
        "print(\"Before Transition Matrix: The standard deviation of test accuracy is {:2f}\".format(round(np.std(model2_test_acc_dict[dataset][0][1:10]))))"
      ],
      "metadata": {
        "id": "7Oio06mzsPm8"
      },
      "execution_count": null,
      "outputs": []
    },
    {
      "cell_type": "markdown",
      "source": [
        "##### With Transition Matrix"
      ],
      "metadata": {
        "id": "rIh1P2NwsV2m"
      }
    },
    {
      "cell_type": "code",
      "source": [
        "dataset = \"fashionmnist0.6\"\n",
        "\n",
        "print(\"-\"*10)\n",
        "print(\"Experiments for dataset: {}\".format(dataset))\n",
        "print(\"\\nTransition Matrix: \\n{}\".format(transition_matrices[dataset]))\n",
        "\n",
        "# Obtain the corresponding dataset\n",
        "X_train_val = dataset_list[dataset][0]\n",
        "Y_train_val = dataset_list[dataset][1]\n",
        "X_test = dataset_list[dataset][2]\n",
        "Y_test = dataset_list[dataset][3]\n",
        "\n",
        "# Detect if GPU or CPU\n",
        "device = torch.device(\"cuda:0\" if torch.cuda.is_available() else \"cpu\")\n",
        "\n",
        "# Set up setting for experiments\n",
        "if dataset.lower() == 'cifar':\n",
        "    in_channels = 3\n",
        "    n_filters = 24\n",
        "else:\n",
        "    in_channels = 1\n",
        "    n_filters = 20\n",
        "\n",
        "for n_iter in range(n_iters):\n",
        "\n",
        "  print(\"The training iteration: {}\".format(n_iter + 1))    \n",
        "\n",
        "  with torch.no_grad():\n",
        "      torch.cuda.empty_cache()\n",
        "\n",
        "  # Load dataset:\n",
        "  train_loader, val_loader, test_loader = data_loader_for_evaluation_function(train_val_data = X_train_val, \n",
        "                                                                              train_val_label = Y_train_val, \n",
        "                                                                              test_data = X_test, \n",
        "                                                                              test_label = Y_test,\n",
        "                                                                              batch_size = optim_config_classifier2[\"batch_size\"])\n",
        "\n",
        "  # Initiate the model\n",
        "  cnn_model = Classifier2(in_channels = in_channels, n_filters = n_filters).to(device)\n",
        "\n",
        "  # Define criterion and optimizer\n",
        "  loss_function_classifier2 = nn.CrossEntropyLoss()\n",
        "  optimizer_classifier2 = torch.optim.SGD(params = cnn_model.parameters(),\n",
        "                                        lr = optim_config_classifier2['lr'], \n",
        "                                        momentum = optim_config_classifier2['momentum'],\n",
        "                                        weight_decay = optim_config_classifier2['weight_decay'])  \n",
        "  \n",
        "  print(\"The training iteration: {} - With Transition Matrix\".format(n_iter + 1)) \n",
        "  # Train and evaluate model with Transition Matrix\n",
        "  trained_model2_with_TM, _, model2_test_accuracy_with_TM = train_and_eval_model(n_epochs = optim_config_classifier2['epochs'], \n",
        "                                                                                model = cnn_model, \n",
        "                                                                                data_train_loader = train_loader,\n",
        "                                                                                data_val_loader = val_loader,\n",
        "                                                                                data_test_loader = test_loader,\n",
        "                                                                                T_matrix = transition_matrices[dataset],\n",
        "                                                                                optimizer = optimizer_classifier2, \n",
        "                                                                                loss_function = loss_function_classifier2,\n",
        "                                                                                optim_config = optim_config_classifier2,\n",
        "                                                                                run_with_Tmatrix = True)\n",
        "\n",
        "  model2_test_acc_dict[dataset][1].append(model2_test_accuracy_with_TM)\n",
        "\n",
        "print(\"\\nAfter Transition Matrix: The mean of test accuracy is {:2f}%\".format(round(np.mean(model2_test_acc_dict[dataset][1][1:10]))))\n",
        "print(\"After Transition Matrix: The standard deviation of test accuracy is {:2f}\".format(round(np.std(model2_test_acc_dict[dataset][1][1:10]))))"
      ],
      "metadata": {
        "id": "8T3RmXSMsWqQ"
      },
      "execution_count": null,
      "outputs": []
    }
  ],
  "metadata": {
    "colab": {
      "provenance": [],
      "toc_visible": true
    },
    "kernelspec": {
      "display_name": "Python 3 (ipykernel)",
      "language": "python",
      "name": "python3"
    },
    "language_info": {
      "codemirror_mode": {
        "name": "ipython",
        "version": 3
      },
      "file_extension": ".py",
      "mimetype": "text/x-python",
      "name": "python",
      "nbconvert_exporter": "python",
      "pygments_lexer": "ipython3",
      "version": "3.8.5"
    },
    "gpuClass": "standard",
    "accelerator": "GPU"
  },
  "nbformat": 4,
  "nbformat_minor": 0
}